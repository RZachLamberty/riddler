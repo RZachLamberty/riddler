{
 "cells": [
  {
   "cell_type": "code",
   "execution_count": 5,
   "metadata": {
    "ExecuteTime": {
     "end_time": "2016-10-21T10:00:42.936425",
     "start_time": "2016-10-21T10:00:42.928695"
    },
    "collapsed": true
   },
   "outputs": [],
   "source": [
    "%matplotlib inline\n",
    "\n",
    "import os\n",
    "\n",
    "import matplotlib.pyplot as plt\n",
    "import pandas as pd\n",
    "import requests\n",
    "import scipy as sp\n",
    "import seaborn as sns"
   ]
  },
  {
   "cell_type": "markdown",
   "metadata": {
    "ExecuteTime": {
     "end_time": "2016-06-03T16:54:12.475519",
     "start_time": "2016-06-03T16:54:12.462652"
    }
   },
   "source": [
    "# Summary of Problem (Express)\n",
    "\n",
    "What is the longest word you can build in a game of Scrabble one letter at a time? That is, starting with a valid two-letter word, how long a word can you build by playing one letter at a time on either side to form a valid three-letter word, then a valid four-letter word, and so on? (For example, HE could become THE, then THEM, then THEME, then THEMES, for a six-letter result.)\n",
    "\n",
    "(You can look up Scrabble words [here](http://scrabble.hasbro.com/en-us/tools).)"
   ]
  },
  {
   "cell_type": "code",
   "execution_count": 49,
   "metadata": {
    "ExecuteTime": {
     "end_time": "2016-10-21T10:18:39.324532",
     "start_time": "2016-10-21T10:18:39.250557"
    },
    "collapsed": true
   },
   "outputs": [],
   "source": [
    "# get or download wordlist\n",
    "url = 'http://www-01.sil.org/linguistics/wordlists/english/wordlist/wordsEn.txt'\n",
    "fwords = 'wordsEn.txt'\n",
    "\n",
    "if not os.path.isfile(fwords):\n",
    "    with open(fwords, 'w') as f:\n",
    "        f.write(requests.get(url).text.replace('\\r', ''))\n",
    "        \n",
    "with open(fwords, 'r') as f:\n",
    "    words = {line.strip() for line in f}"
   ]
  },
  {
   "cell_type": "code",
   "execution_count": 50,
   "metadata": {
    "ExecuteTime": {
     "end_time": "2016-10-21T10:18:39.713088",
     "start_time": "2016-10-21T10:18:39.679844"
    },
    "collapsed": false
   },
   "outputs": [],
   "source": [
    "shell = {w for w in words if len(w) == 1}"
   ]
  },
  {
   "cell_type": "code",
   "execution_count": 51,
   "metadata": {
    "ExecuteTime": {
     "end_time": "2016-10-21T10:18:40.076583",
     "start_time": "2016-10-21T10:18:40.070676"
    },
    "collapsed": false
   },
   "outputs": [
    {
     "data": {
      "text/plain": [
       "{'a'}"
      ]
     },
     "execution_count": 51,
     "metadata": {},
     "output_type": "execute_result"
    }
   ],
   "source": [
    "shell"
   ]
  },
  {
   "cell_type": "code",
   "execution_count": 52,
   "metadata": {
    "ExecuteTime": {
     "end_time": "2016-10-21T10:18:41.262056",
     "start_time": "2016-10-21T10:18:40.577478"
    },
    "collapsed": false
   },
   "outputs": [
    {
     "name": "stdout",
     "output_type": "stream",
     "text": [
      "1\n",
      "2\n",
      "3\n",
      "4\n",
      "5\n",
      "6\n",
      "7\n",
      "8\n"
     ]
    }
   ],
   "source": [
    "i = 0\n",
    "while True:\n",
    "    newshell = set()\n",
    "    for word in words:\n",
    "        left = word[:-1]\n",
    "        right = word[1:]\n",
    "        if left in shell or right in shell:\n",
    "            newshell.add(word)\n",
    "    if len(newshell) == 0:\n",
    "        break\n",
    "    else:\n",
    "        i += 1\n",
    "        print(i)\n",
    "        shell = newshell"
   ]
  },
  {
   "cell_type": "code",
   "execution_count": 53,
   "metadata": {
    "ExecuteTime": {
     "end_time": "2016-10-21T10:18:42.595349",
     "start_time": "2016-10-21T10:18:42.591423"
    },
    "collapsed": false
   },
   "outputs": [
    {
     "data": {
      "text/plain": [
       "{'relapsers', 'sheathers'}"
      ]
     },
     "execution_count": 53,
     "metadata": {},
     "output_type": "execute_result"
    }
   ],
   "source": [
    "shell"
   ]
  },
  {
   "cell_type": "code",
   "execution_count": 56,
   "metadata": {
    "ExecuteTime": {
     "end_time": "2016-10-21T10:19:06.514437",
     "start_time": "2016-10-21T10:19:06.507708"
    },
    "collapsed": true
   },
   "outputs": [],
   "source": [
    "def edgewords(w):\n",
    "    return w[:-1], w[1:]\n",
    "\n",
    "\n",
    "def find_subwords(w, words):\n",
    "    subwords = [w]\n",
    "    left, right = edgewords(w)\n",
    "    if left in words:\n",
    "        return subwords + find_subwords(left, words)\n",
    "    elif right in words:\n",
    "        return subwords + find_subwords(right, words)\n",
    "    else:\n",
    "        return subwords"
   ]
  },
  {
   "cell_type": "code",
   "execution_count": 57,
   "metadata": {
    "ExecuteTime": {
     "end_time": "2016-10-21T10:19:07.143730",
     "start_time": "2016-10-21T10:19:07.139234"
    },
    "collapsed": false
   },
   "outputs": [
    {
     "data": {
      "text/plain": [
       "['relapsers',\n",
       " 'relapser',\n",
       " 'relapse',\n",
       " 'elapse',\n",
       " 'lapse',\n",
       " 'laps',\n",
       " 'lap',\n",
       " 'la',\n",
       " 'a']"
      ]
     },
     "execution_count": 57,
     "metadata": {},
     "output_type": "execute_result"
    }
   ],
   "source": [
    "find_subwords('relapsers', words)"
   ]
  },
  {
   "cell_type": "code",
   "execution_count": 58,
   "metadata": {
    "ExecuteTime": {
     "end_time": "2016-10-21T10:19:22.186441",
     "start_time": "2016-10-21T10:19:22.181136"
    },
    "collapsed": false
   },
   "outputs": [
    {
     "data": {
      "text/plain": [
       "['sheathers',\n",
       " 'sheather',\n",
       " 'sheathe',\n",
       " 'sheath',\n",
       " 'heath',\n",
       " 'heat',\n",
       " 'eat',\n",
       " 'at',\n",
       " 'a']"
      ]
     },
     "execution_count": 58,
     "metadata": {},
     "output_type": "execute_result"
    }
   ],
   "source": [
    "find_subwords('sheathers', words)"
   ]
  },
  {
   "cell_type": "code",
   "execution_count": null,
   "metadata": {
    "collapsed": true
   },
   "outputs": [],
   "source": []
  }
 ],
 "metadata": {
  "anaconda-cloud": {},
  "kernelspec": {
   "display_name": "Python [default]",
   "language": "python",
   "name": "python3"
  },
  "language_info": {
   "codemirror_mode": {
    "name": "ipython",
    "version": 3
   },
   "file_extension": ".py",
   "mimetype": "text/x-python",
   "name": "python",
   "nbconvert_exporter": "python",
   "pygments_lexer": "ipython3",
   "version": "3.5.2"
  },
  "toc": {
   "toc_cell": false,
   "toc_number_sections": true,
   "toc_threshold": 6,
   "toc_window_display": false
  }
 },
 "nbformat": 4,
 "nbformat_minor": 0
}
