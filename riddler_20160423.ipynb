{
 "cells": [
  {
   "cell_type": "code",
   "execution_count": 41,
   "metadata": {
    "collapsed": true
   },
   "outputs": [],
   "source": [
    "%matplotlib inline\n",
    "\n",
    "import numpy as np\n",
    "import pandas as pd\n",
    "import seaborn as sns\n",
    "import tqdm"
   ]
  },
  {
   "cell_type": "markdown",
   "metadata": {},
   "source": [
    "# Summary of Problem\n",
    "\n",
    "The misanthropes are coming. Suppose there is a row of some number, N, of houses in a new, initially empty development. Misanthropes are moving into the development one at a time and selecting a house at random from those that have nobody in them and nobody living next door. They keep on coming until no acceptable houses remain. At most, one out of two houses will be occupied; at least one out of three houses will be. But what’s the expected fraction of occupied houses as the development gets larger, that is, as N goes to infinity?"
   ]
  },
  {
   "cell_type": "code",
   "execution_count": 42,
   "metadata": {
    "collapsed": false
   },
   "outputs": [
    {
     "data": {
      "text/html": [
       "<div>\n",
       "<table border=\"1\" class=\"dataframe\">\n",
       "  <thead>\n",
       "    <tr style=\"text-align: right;\">\n",
       "      <th></th>\n",
       "      <th>occupied</th>\n",
       "      <th>plotNum</th>\n",
       "      <th>withNeighbor</th>\n",
       "    </tr>\n",
       "  </thead>\n",
       "  <tbody>\n",
       "    <tr>\n",
       "      <th>0</th>\n",
       "      <td>False</td>\n",
       "      <td>0</td>\n",
       "      <td>False</td>\n",
       "    </tr>\n",
       "    <tr>\n",
       "      <th>1</th>\n",
       "      <td>False</td>\n",
       "      <td>1</td>\n",
       "      <td>False</td>\n",
       "    </tr>\n",
       "    <tr>\n",
       "      <th>2</th>\n",
       "      <td>False</td>\n",
       "      <td>2</td>\n",
       "      <td>False</td>\n",
       "    </tr>\n",
       "    <tr>\n",
       "      <th>3</th>\n",
       "      <td>False</td>\n",
       "      <td>3</td>\n",
       "      <td>False</td>\n",
       "    </tr>\n",
       "    <tr>\n",
       "      <th>4</th>\n",
       "      <td>False</td>\n",
       "      <td>4</td>\n",
       "      <td>False</td>\n",
       "    </tr>\n",
       "    <tr>\n",
       "      <th>5</th>\n",
       "      <td>False</td>\n",
       "      <td>5</td>\n",
       "      <td>False</td>\n",
       "    </tr>\n",
       "    <tr>\n",
       "      <th>6</th>\n",
       "      <td>False</td>\n",
       "      <td>6</td>\n",
       "      <td>False</td>\n",
       "    </tr>\n",
       "    <tr>\n",
       "      <th>7</th>\n",
       "      <td>False</td>\n",
       "      <td>7</td>\n",
       "      <td>False</td>\n",
       "    </tr>\n",
       "    <tr>\n",
       "      <th>8</th>\n",
       "      <td>False</td>\n",
       "      <td>8</td>\n",
       "      <td>False</td>\n",
       "    </tr>\n",
       "    <tr>\n",
       "      <th>9</th>\n",
       "      <td>False</td>\n",
       "      <td>9</td>\n",
       "      <td>False</td>\n",
       "    </tr>\n",
       "  </tbody>\n",
       "</table>\n",
       "</div>"
      ],
      "text/plain": [
       "  occupied  plotNum withNeighbor\n",
       "0    False        0        False\n",
       "1    False        1        False\n",
       "2    False        2        False\n",
       "3    False        3        False\n",
       "4    False        4        False\n",
       "5    False        5        False\n",
       "6    False        6        False\n",
       "7    False        7        False\n",
       "8    False        8        False\n",
       "9    False        9        False"
      ]
     },
     "execution_count": 42,
     "metadata": {},
     "output_type": "execute_result"
    }
   ],
   "source": [
    "numPlots = 10\n",
    "plots = pd.DataFrame({'plotNum': range(numPlots), 'occupied': False, 'withNeighbor': False})\n",
    "plots"
   ]
  },
  {
   "cell_type": "code",
   "execution_count": 43,
   "metadata": {
    "collapsed": false
   },
   "outputs": [
    {
     "data": {
      "text/plain": [
       "3"
      ]
     },
     "execution_count": 43,
     "metadata": {},
     "output_type": "execute_result"
    }
   ],
   "source": [
    "plots.sample(1).index[0]"
   ]
  },
  {
   "cell_type": "code",
   "execution_count": 44,
   "metadata": {
    "collapsed": true
   },
   "outputs": [],
   "source": [
    "class Plots(object):\n",
    "    def __init__(self, numPlots=1000, verbose=False):\n",
    "        self.df = pd.DataFrame({\n",
    "            'plotNum': range(numPlots),\n",
    "            'occupied': False,\n",
    "            'inhabitable': True,\n",
    "        })\n",
    "        self._numPlots = numPlots\n",
    "        \n",
    "    @property\n",
    "    def occupied(self):\n",
    "        return self.df[self.df.occupied]\n",
    "    \n",
    "    @property\n",
    "    def unoccupied(self):\n",
    "        return self.df[~self.df.occupied]\n",
    "    \n",
    "    @property\n",
    "    def inhabitable(self):\n",
    "        return self.df[self.df.inhabitable]\n",
    "    \n",
    "    @property\n",
    "    def homesLeft(self):\n",
    "        return self.df.inhabitable.any()\n",
    "    \n",
    "    def misanthrope_moves_in(self):\n",
    "        newHouse = self.inhabitable.sample(1)\n",
    "        i = newHouse.index[0]\n",
    "        self.df.loc[i - 1: i + 1, 'inhabitable'] = False\n",
    "        self.df.loc[i, 'occupied'] = True\n",
    "    \n",
    "    @property\n",
    "    def frac_occupied(self):\n",
    "        return self.occupied.shape[0] / self._numPlots\n",
    "\n",
    "    \n",
    "def single_sim(numPlots=1000):\n",
    "    \"\"\"create a df of numPlots empty plots, iterate through them\n",
    "    until they are all occupied or neighbored\n",
    "    \n",
    "    \"\"\"\n",
    "    plots = Plots(numPlots)\n",
    "    while plots.homesLeft:\n",
    "        plots.misanthrope_moves_in()\n",
    "    return plots\n",
    "\n",
    "\n",
    "class Simulation(object):\n",
    "    def __init__(self, numSims=100, numPlots=1000, verbose=False):\n",
    "        self.numSims = numSims\n",
    "        self.numPlots = numPlots\n",
    "        self.verbose = verbose\n",
    "        self.res = []\n",
    "        \n",
    "    def run(self):\n",
    "        for i in tqdm.tqdm(range(self.numSims), total=self.numSims):\n",
    "            p = single_sim(self.numPlots)\n",
    "            self.res.append({\n",
    "                'sim_num': i,\n",
    "                'num_plots': self.numPlots,\n",
    "                'frac_occupied': p.frac_occupied,\n",
    "            })\n",
    "    \n",
    "    @property\n",
    "    def df(self):\n",
    "        return pd.DataFrame(self.res)"
   ]
  },
  {
   "cell_type": "code",
   "execution_count": 45,
   "metadata": {
    "collapsed": false
   },
   "outputs": [
    {
     "name": "stderr",
     "output_type": "stream",
     "text": []
    }
   ],
   "source": [
    "plots = Simulation(numPlots=5000)\n",
    "plots.run()"
   ]
  },
  {
   "cell_type": "code",
   "execution_count": 60,
   "metadata": {
    "collapsed": false
   },
   "outputs": [
    {
     "data": {
      "image/png": "[encoded data removed]",
      "text/plain": [
       "<matplotlib.figure.Figure at 0x10d19d9b0>"
      ]
     },
     "metadata": {},
     "output_type": "display_data"
    }
   ],
   "source": [
    "plots.df.frac_occupied.plot(kind='box');"
   ]
  },
  {
   "cell_type": "code",
   "execution_count": null,
   "metadata": {
    "collapsed": true
   },
   "outputs": [],
   "source": []
  },
  {
   "cell_type": "code",
   "execution_count": null,
   "metadata": {
    "collapsed": true
   },
   "outputs": [],
   "source": []
  },
  {
   "cell_type": "code",
   "execution_count": null,
   "metadata": {
    "collapsed": true
   },
   "outputs": [],
   "source": []
  }
 ],
 "metadata": {
  "kernelspec": {
   "display_name": "Python 3",
   "language": "python",
   "name": "python3"
  },
  "language_info": {
   "codemirror_mode": {
    "name": "ipython",
    "version": 3
   },
   "file_extension": ".py",
   "mimetype": "text/x-python",
   "name": "python",
   "nbconvert_exporter": "python",
   "pygments_lexer": "ipython3",
   "version": "3.5.1"
  }
 },
 "nbformat": 4,
 "nbformat_minor": 0
}
