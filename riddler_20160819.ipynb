{
 "cells": [
  {
   "cell_type": "code",
   "execution_count": 1,
   "metadata": {
    "ExecuteTime": {
     "end_time": "2016-08-19T14:11:15.272631",
     "start_time": "2016-08-19T14:11:13.286957"
    },
    "collapsed": true
   },
   "outputs": [],
   "source": [
    "%matplotlib inline\n",
    "\n",
    "import matplotlib.pyplot as plt\n",
    "import pandas as pd\n",
    "import scipy as sp\n",
    "import seaborn as sns\n",
    "\n",
    "from ipywidgets import interact, interactive, fixed\n",
    "import ipywidgets as widgets"
   ]
  },
  {
   "cell_type": "markdown",
   "metadata": {
    "ExecuteTime": {
     "end_time": "2016-06-03T16:54:12.475519",
     "start_time": "2016-06-03T16:54:12.462652"
    }
   },
   "source": [
    "# Summary of Problem\n",
    "\n",
    "You, a hard-driving sheep farmer, are tucked into the southeast corner of your square, fenced-in sheep paddock. There are two gates equidistant from you: one at the southwest corner and one at the northeast corner. An angry, recalcitrant ram enters the paddock from the southwest gate and charges directly at you at a constant speed. You run — obviously! — at a constant speed along the eastern fence toward the northeast gate in an attempt to escape. The ram keeps charging, always directly at you.\n",
    "\n",
    "How much faster than you does the ram have to run so that he catches you just as you reach the gate?"
   ]
  },
  {
   "cell_type": "code",
   "execution_count": 2,
   "metadata": {
    "ExecuteTime": {
     "end_time": "2016-08-19T14:11:15.288134",
     "start_time": "2016-08-19T14:11:15.274651"
    },
    "collapsed": true
   },
   "outputs": [],
   "source": [
    "def me(t):\n",
    "    return sp.array([1, t])\n",
    "\n",
    "def bulldist(t, d):\n",
    "    x = me(t) - d\n",
    "    dist = sp.linalg.norm(x)\n",
    "    xhat = x / dist\n",
    "    return x, dist, xhat\n",
    "\n",
    "def vbull(t, d, speed):\n",
    "    x, dist, xhat = bulldist(t, d)\n",
    "    return speed * xhat"
   ]
  },
  {
   "cell_type": "code",
   "execution_count": 3,
   "metadata": {
    "ExecuteTime": {
     "end_time": "2016-08-19T14:11:15.310573",
     "start_time": "2016-08-19T14:11:15.290460"
    },
    "collapsed": false
   },
   "outputs": [],
   "source": [
    "BULLSTART = sp.array([0, 0])\n",
    "def run_forrest_run(speed, stepsize=.005, maxtime=10, distThresh=0.005):\n",
    "    r = sp.integrate.ode(vbull)\n",
    "    r.set_initial_value(BULLSTART, 0).set_f_params(speed)\n",
    "    hist = [[0, BULLSTART, me(0)]]\n",
    "    while r.successful() and r.t < maxtime:\n",
    "        tnext = r.t + stepsize\n",
    "        dnext = r.integrate(tnext)\n",
    "        x, dist, xhat = bulldist(tnext, dnext)\n",
    "        hist.append([tnext, dnext, me(tnext)])\n",
    "        if dist < distThresh:\n",
    "            break\n",
    "    return hist"
   ]
  },
  {
   "cell_type": "code",
   "execution_count": 4,
   "metadata": {
    "ExecuteTime": {
     "end_time": "2016-08-19T14:11:15.326986",
     "start_time": "2016-08-19T14:11:15.313282"
    },
    "collapsed": false
   },
   "outputs": [],
   "source": [
    "def bullpath(speed, stepsize=.005, maxtime=10, distThresh=0.005):\n",
    "    return sp.array([_[1] for _ in run_forrest_run(speed=speed, stepsize=stepsize, maxtime=maxtime, distThresh=distThresh)])"
   ]
  },
  {
   "cell_type": "code",
   "execution_count": 16,
   "metadata": {
    "ExecuteTime": {
     "end_time": "2016-08-19T14:17:20.272499",
     "start_time": "2016-08-19T14:17:20.258750"
    },
    "collapsed": false
   },
   "outputs": [],
   "source": [
    "def bullplot(speed, stepsize=.005, maxtime=10, distThresh=0.005, ax=None):\n",
    "    bp = bullpath(speed=speed, stepsize=stepsize, maxtime=maxtime, distThresh=distThresh)\n",
    "    if ax is None:\n",
    "        f = plt.figure()\n",
    "        ax = f.add_subplot(111)\n",
    "    a = ax.plot(bp[:, 0], bp[:, 1], label='speed {:.02f}'.format(speed))\n",
    "    ax.legend()\n",
    "    ax.set_xlim(0, 1)\n",
    "    ylim = ax.get_ylim()\n",
    "    ymax = max(ylim[1], 1)\n",
    "    ax.set_ylim(0, ymax)"
   ]
  },
  {
   "cell_type": "code",
   "execution_count": 10,
   "metadata": {
    "ExecuteTime": {
     "end_time": "2016-08-19T14:12:13.777603",
     "start_time": "2016-08-19T14:12:13.301917"
    },
    "collapsed": false
   },
   "outputs": [
    {
     "name": "stderr",
     "output_type": "stream",
     "text": [
      "/Users/zach.lamberty/anaconda2/envs/bullshit3/lib/python3.5/site-packages/scipy/integrate/_ode.py:869: UserWarning: vode: Excess work done on this call. (Perhaps wrong MF.)\n",
      "  'Unexpected istate=%s' % istate))\n"
     ]
    },
    {
     "data": {
      "text/plain": [
       "<function __main__.bullplot>"
      ]
     },
     "execution_count": 10,
     "metadata": {},
     "output_type": "execute_result"
    },
    {
     "data": {
      "image/png": "[encoded data removed]",
      "text/plain": [
       "<matplotlib.figure.Figure at 0x10dcfc9e8>"
      ]
     },
     "metadata": {},
     "output_type": "display_data"
    }
   ],
   "source": [
    "interact(bullplot, speed=(1.01, 10.00), stepsize=(.005, 0.9), maxtime=(1, 10), distThresh=(0.001, 0.100))"
   ]
  },
  {
   "cell_type": "code",
   "execution_count": 6,
   "metadata": {
    "ExecuteTime": {
     "end_time": "2016-08-19T14:11:16.101004",
     "start_time": "2016-08-19T14:11:16.090376"
    },
    "collapsed": true
   },
   "outputs": [],
   "source": [
    "def time_to_live(speed):\n",
    "    \"\"\"given a speed a ram is running, how long until it reaches me\"\"\"\n",
    "    return run_forrest_run(speed=speed)[-1][0]"
   ]
  },
  {
   "cell_type": "code",
   "execution_count": 7,
   "metadata": {
    "ExecuteTime": {
     "end_time": "2016-08-19T14:11:16.145210",
     "start_time": "2016-08-19T14:11:16.104890"
    },
    "collapsed": true
   },
   "outputs": [],
   "source": [
    "def ramming_speed(speed):\n",
    "    return 1.0 - time_to_live(speed)"
   ]
  },
  {
   "cell_type": "code",
   "execution_count": 8,
   "metadata": {
    "ExecuteTime": {
     "end_time": "2016-08-19T14:11:17.449358",
     "start_time": "2016-08-19T14:11:16.176085"
    },
    "collapsed": false
   },
   "outputs": [
    {
     "name": "stderr",
     "output_type": "stream",
     "text": [
      "/Users/zach.lamberty/anaconda2/envs/bullshit3/lib/python3.5/site-packages/scipy/integrate/_ode.py:869: UserWarning: vode: Excess work done on this call. (Perhaps wrong MF.)\n",
      "  'Unexpected istate=%s' % istate))\n"
     ]
    },
    {
     "data": {
      "text/plain": [
       "    fjac: array([[ 1.]])\n",
       "     fun: -6.6613381477509392e-16\n",
       " message: 'The iteration is not making good progress, as measured by the \\n  improvement from the last ten iterations.'\n",
       "    nfev: 27\n",
       "     qtf: array([ -6.66133815e-16])\n",
       "       r: array([ 0.])\n",
       "  status: 5\n",
       " success: False\n",
       "       x: array([ 1.61418414])"
      ]
     },
     "execution_count": 8,
     "metadata": {},
     "output_type": "execute_result"
    }
   ],
   "source": [
    "v0 = 1.4\n",
    "sp.optimize.root(ramming_speed, v0, tol=1e-8)"
   ]
  },
  {
   "cell_type": "code",
   "execution_count": 31,
   "metadata": {
    "ExecuteTime": {
     "end_time": "2016-08-19T14:26:24.024924",
     "start_time": "2016-08-19T14:26:21.786465"
    },
    "collapsed": false
   },
   "outputs": [],
   "source": [
    "speeds = sp.arange(1.05, 2.05, .01)\n",
    "times = sp.array([time_to_live(s) for s in speeds])"
   ]
  },
  {
   "cell_type": "code",
   "execution_count": 37,
   "metadata": {
    "ExecuteTime": {
     "end_time": "2016-08-19T14:27:21.465767",
     "start_time": "2016-08-19T14:27:21.118997"
    },
    "collapsed": false
   },
   "outputs": [
    {
     "data": {
      "text/plain": [
       "<matplotlib.collections.LineCollection at 0x11118b780>"
      ]
     },
     "execution_count": 37,
     "metadata": {},
     "output_type": "execute_result"
    },
    {
     "data": {
      "image/png": "[encoded data removed]",
      "text/plain": [
       "<matplotlib.figure.Figure at 0x11118b748>"
      ]
     },
     "metadata": {},
     "output_type": "display_data"
    }
   ],
   "source": [
    "plt.plot(speeds, times)\n",
    "plt.hlines(1, 1.1, 2, linestyle='--')"
   ]
  },
  {
   "cell_type": "code",
   "execution_count": null,
   "metadata": {
    "collapsed": true
   },
   "outputs": [],
   "source": []
  }
 ],
 "metadata": {
  "kernelspec": {
   "display_name": "Python 3",
   "language": "python",
   "name": "python3"
  },
  "language_info": {
   "codemirror_mode": {
    "name": "ipython",
    "version": 3
   },
   "file_extension": ".py",
   "mimetype": "text/x-python",
   "name": "python",
   "nbconvert_exporter": "python",
   "pygments_lexer": "ipython3",
   "version": "3.5.2"
  },
  "toc": {
   "toc_cell": false,
   "toc_number_sections": true,
   "toc_threshold": 6,
   "toc_window_display": false
  }
 },
 "nbformat": 4,
 "nbformat_minor": 0
}
