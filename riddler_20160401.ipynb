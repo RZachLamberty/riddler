{
 "cells": [
  {
   "cell_type": "markdown",
   "metadata": {},
   "source": [
    "# The Riddler, 2016-04-01"
   ]
  },
  {
   "cell_type": "markdown",
   "metadata": {},
   "source": [
    "statement from the [riddler](http://fivethirtyeight.com/features/can-you-solve-the-impossible-puzzle/):\n",
    "\n",
    "> Three very skilled logicians are sitting around a table — Barack, Pete and Susan. Barack says: “I’m thinking of two natural numbers between 1 and 9, inclusive. I’ve written the product of these two numbers on this paper that I’m giving to you, Pete. I’ve written the sum of the two numbers on this paper that I’m giving to you, Susan. Now Pete, looking at your paper, do you know which numbers I’m thinking of?”\n",
    "> \n",
    "> Pete looks at his paper and says: “No, I don’t.”\n",
    "> \n",
    "> Barack turns to Susan and asks: “Susan, do you know which numbers I’m thinking of?” Susan looks at her paper and says: “No.”\n",
    "> \n",
    "> Barack turns back to Pete and asks: “How about now? Do you know?”\n",
    "> \n",
    "> “No, I still don’t,” Pete says.\n",
    "> \n",
    "> Barack keeps going back and forth, and when he asks Pete for the fifth time, Pete says: “Yes, now I know!”\n",
    "> \n",
    "> First, what are the two numbers? Second, if Pete had said no the fifth time, would Susan have said yes or no at her fifth turn?"
   ]
  },
  {
   "cell_type": "code",
   "execution_count": 118,
   "metadata": {
    "collapsed": true
   },
   "outputs": [],
   "source": [
    "%matplotlib inline\n",
    "\n",
    "import collections\n",
    "import matplotlib.pyplot as plt\n",
    "import scipy as sp"
   ]
  },
  {
   "cell_type": "code",
   "execution_count": 219,
   "metadata": {
    "collapsed": false
   },
   "outputs": [],
   "source": [
    "class Tracker(object):\n",
    "    def __init__(self, low, high, func):\n",
    "        self.low = low\n",
    "        self.high = high\n",
    "        self.poss = collections.defaultdict(set)\n",
    "        for i in range(low, high + 1):\n",
    "            for j in range(i, high + 1):\n",
    "                self.poss[func(i, j)].add((i, j))\n",
    "                \n",
    "    def poss_as_array(self):\n",
    "        L = self.high - self.low + 1\n",
    "        z = sp.zeros((L, L)) - 1\n",
    "        for (k, ijPairSet) in self.poss.items():\n",
    "            for (i, j) in ijPairSet:\n",
    "                z[i - self.low, j - self.low] = k\n",
    "                z[j - self.low, i - self.low] = k\n",
    "        return z\n",
    "    \n",
    "    def print_poss(self, ax):\n",
    "        z = self.poss_as_array()\n",
    "        ax.matshow(z)\n",
    "        labs = [''] + ['{}'.format(i) for i in range(self.low, self.high + 1) if i % 2]\n",
    "        ax.set_xticklabels(labs)\n",
    "        ax.set_yticklabels(labs)\n",
    "    \n",
    "    def believe_me_i_would_know(self):\n",
    "        \"\"\"return all the pairs of numbers which are the only pairs to yield a given value\"\"\"\n",
    "        return [el for (k, v) in self.poss.items() if len(v) == 1 for el in v]\n",
    "    \n",
    "    def well_if_you_dont_know_then(self, nopeSet):\n",
    "        \"\"\"we received outside information that it was not some pair\"\"\"\n",
    "        newposs = {}\n",
    "        for (k, v) in self.poss.items():\n",
    "            newvals = {el for el in v if el not in nopeSet}\n",
    "            if newvals:\n",
    "                newposs[k] = newvals\n",
    "        self.poss = newposs\n",
    "\n",
    "    def dont_know(self):\n",
    "        \"\"\"any pair which would be the only one to result in the poss they result in can be excluded\"\"\"\n",
    "        notThose = self.believe_me_i_would_know()\n",
    "        toDrop = [k for (k, v) in self.poss.items() if len(v) == 1]\n",
    "        for k in toDrop:\n",
    "            del self.poss[k]\n",
    "        return notThose\n",
    "    \n",
    "    def i_know(self):\n",
    "        return self.believe_me_i_would_know()"
   ]
  },
  {
   "cell_type": "code",
   "execution_count": 220,
   "metadata": {
    "collapsed": true
   },
   "outputs": [],
   "source": [
    "def update(says, tells, know):\n",
    "    if know:\n",
    "        return says.i_know()\n",
    "    else:\n",
    "        tells.well_if_you_dont_know_then(says.dont_know())\n",
    "        \n",
    "        \n",
    "def show_poss(s, p):\n",
    "    f = plt.figure()\n",
    "    a1 = f.add_subplot(1, 2, 1)\n",
    "    s.print_poss(a1)\n",
    "    a2 = f.add_subplot(1, 2, 2)\n",
    "    p.print_poss(a2)\n",
    "    return f"
   ]
  },
  {
   "cell_type": "code",
   "execution_count": 224,
   "metadata": {
    "collapsed": false
   },
   "outputs": [],
   "source": [
    "s = Tracker(1, 9, lambda x, y: x + y)\n",
    "p = Tracker(1, 9, lambda x, y: x * y)"
   ]
  },
  {
   "cell_type": "code",
   "execution_count": 225,
   "metadata": {
    "collapsed": false
   },
   "outputs": [
    {
     "data": {
      "image/png": "[encoded data removed]",
      "text/plain": [
       "<matplotlib.figure.Figure at 0x10945b8d0>"
      ]
     },
     "metadata": {},
     "output_type": "display_data"
    }
   ],
   "source": [
    "show_poss(s, p);"
   ]
  },
  {
   "cell_type": "code",
   "execution_count": 226,
   "metadata": {
    "collapsed": false
   },
   "outputs": [],
   "source": [
    "update(says=p, tells=s, know=False)"
   ]
  },
  {
   "cell_type": "code",
   "execution_count": 227,
   "metadata": {
    "collapsed": false
   },
   "outputs": [
    {
     "data": {
      "image/png": "[encoded data removed]",
      "text/plain": [
       "<matplotlib.figure.Figure at 0x1092fd4a8>"
      ]
     },
     "metadata": {},
     "output_type": "display_data"
    }
   ],
   "source": [
    "show_poss(s, p);"
   ]
  },
  {
   "cell_type": "code",
   "execution_count": 228,
   "metadata": {
    "collapsed": false
   },
   "outputs": [],
   "source": [
    "update(says=s, tells=p, know=False)"
   ]
  },
  {
   "cell_type": "code",
   "execution_count": 229,
   "metadata": {
    "collapsed": false
   },
   "outputs": [
    {
     "data": {
      "image/png": "[encoded data removed]",
      "text/plain": [
       "<matplotlib.figure.Figure at 0x109afb0f0>"
      ]
     },
     "metadata": {},
     "output_type": "display_data"
    }
   ],
   "source": [
    "show_poss(s, p);"
   ]
  },
  {
   "cell_type": "code",
   "execution_count": 230,
   "metadata": {
    "collapsed": false
   },
   "outputs": [],
   "source": [
    "update(says=p, tells=s, know=False)"
   ]
  },
  {
   "cell_type": "code",
   "execution_count": 231,
   "metadata": {
    "collapsed": false
   },
   "outputs": [
    {
     "data": {
      "image/png": "[encoded data removed]",
      "text/plain": [
       "<matplotlib.figure.Figure at 0x109b9c0f0>"
      ]
     },
     "metadata": {},
     "output_type": "display_data"
    }
   ],
   "source": [
    "show_poss(s, p);"
   ]
  },
  {
   "cell_type": "code",
   "execution_count": 232,
   "metadata": {
    "collapsed": false
   },
   "outputs": [],
   "source": [
    "update(says=s, tells=p, know=False)"
   ]
  },
  {
   "cell_type": "code",
   "execution_count": 233,
   "metadata": {
    "collapsed": false
   },
   "outputs": [
    {
     "data": {
      "image/png": "[encoded data removed]",
      "text/plain": [
       "<matplotlib.figure.Figure at 0x108dbe6d8>"
      ]
     },
     "metadata": {},
     "output_type": "display_data"
    }
   ],
   "source": [
    "show_poss(s, p);"
   ]
  },
  {
   "cell_type": "code",
   "execution_count": 234,
   "metadata": {
    "collapsed": false
   },
   "outputs": [],
   "source": [
    "update(says=p, tells=s, know=False)"
   ]
  },
  {
   "cell_type": "code",
   "execution_count": 235,
   "metadata": {
    "collapsed": false
   },
   "outputs": [
    {
     "data": {
      "image/png": "[encoded data removed]",
      "text/plain": [
       "<matplotlib.figure.Figure at 0x109dbf240>"
      ]
     },
     "metadata": {},
     "output_type": "display_data"
    }
   ],
   "source": [
    "show_poss(s, p);"
   ]
  },
  {
   "cell_type": "code",
   "execution_count": 236,
   "metadata": {
    "collapsed": false
   },
   "outputs": [],
   "source": [
    "update(says=s, tells=p, know=False)"
   ]
  },
  {
   "cell_type": "code",
   "execution_count": 237,
   "metadata": {
    "collapsed": false
   },
   "outputs": [
    {
     "data": {
      "image/png": "[encoded data removed]",
      "text/plain": [
       "<matplotlib.figure.Figure at 0x1099b94e0>"
      ]
     },
     "metadata": {},
     "output_type": "display_data"
    }
   ],
   "source": [
    "show_poss(s, p);"
   ]
  },
  {
   "cell_type": "code",
   "execution_count": 238,
   "metadata": {
    "collapsed": false
   },
   "outputs": [],
   "source": [
    "update(says=p, tells=s, know=False)"
   ]
  },
  {
   "cell_type": "code",
   "execution_count": 239,
   "metadata": {
    "collapsed": false
   },
   "outputs": [
    {
     "data": {
      "image/png": "[encoded data removed]",
      "text/plain": [
       "<matplotlib.figure.Figure at 0x1096626d8>"
      ]
     },
     "metadata": {},
     "output_type": "display_data"
    }
   ],
   "source": [
    "show_poss(s, p);"
   ]
  },
  {
   "cell_type": "code",
   "execution_count": 240,
   "metadata": {
    "collapsed": false
   },
   "outputs": [],
   "source": [
    "update(says=s, tells=p, know=False)"
   ]
  },
  {
   "cell_type": "code",
   "execution_count": 241,
   "metadata": {
    "collapsed": false
   },
   "outputs": [
    {
     "data": {
      "image/png": "[encoded data removed]",
      "text/plain": [
       "<matplotlib.figure.Figure at 0x109b1b668>"
      ]
     },
     "metadata": {},
     "output_type": "display_data"
    }
   ],
   "source": [
    "show_poss(s, p);"
   ]
  },
  {
   "cell_type": "code",
   "execution_count": 242,
   "metadata": {
    "collapsed": false
   },
   "outputs": [
    {
     "data": {
      "text/plain": [
       "[(2, 8)]"
      ]
     },
     "execution_count": 242,
     "metadata": {},
     "output_type": "execute_result"
    }
   ],
   "source": [
    "update(says=p, tells=s, know=True)"
   ]
  },
  {
   "cell_type": "code",
   "execution_count": 243,
   "metadata": {
    "collapsed": false
   },
   "outputs": [
    {
     "data": {
      "image/png": "[encoded data removed]",
      "text/plain": [
       "<matplotlib.figure.Figure at 0x1096805f8>"
      ]
     },
     "metadata": {},
     "output_type": "display_data"
    }
   ],
   "source": [
    "show_poss(s, p);"
   ]
  },
  {
   "cell_type": "code",
   "execution_count": null,
   "metadata": {
    "collapsed": true
   },
   "outputs": [],
   "source": []
  }
 ],
 "metadata": {
  "kernelspec": {
   "display_name": "Python 3",
   "language": "python",
   "name": "python3"
  },
  "language_info": {
   "codemirror_mode": {
    "name": "ipython",
    "version": 3
   },
   "file_extension": ".py",
   "mimetype": "text/x-python",
   "name": "python",
   "nbconvert_exporter": "python",
   "pygments_lexer": "ipython3",
   "version": "3.5.1"
  }
 },
 "nbformat": 4,
 "nbformat_minor": 0
}
