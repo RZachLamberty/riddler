{
 "cells": [
  {
   "cell_type": "code",
   "execution_count": 1,
   "metadata": {
    "collapsed": true
   },
   "outputs": [],
   "source": [
    "%matplotlib inline\n",
    "\n",
    "import numpy as np\n",
    "import pandas as pd\n",
    "import seaborn as sns\n",
    "import tqdm"
   ]
  },
  {
   "cell_type": "markdown",
   "metadata": {},
   "source": [
    "# Summary of Problem\n",
    "\n",
    "It’s Friday and that means it’s party time! A group of N people are in attendance at your shindig, some of whom are friends with each other. (Let’s assume friendship is symmetric — if person A is friends with person B, then B is friends with A.) Suppose that everyone has at least one friend at the party, and that a person is “proud” if her number of friends is strictly larger than the average number of friends that her own friends have. (A competitive lot, your guests.)\n",
    "\n",
    "Importantly, more than one person can be proud. How large can the share of proud people at the party be?\n",
    "\n",
    "## preliminary thoughts\n",
    "\n",
    "Let's suppose we have a (symmetric) adjacency matrix $A$. The criteria for being proud is that:\n",
    "\n",
    "$$\n",
    "\\operatorname{deg}(i) > \\dfrac{\\sum_j A_{ij} \\operatorname{deg}(j)}{\\sum_j A_{ij}}\n",
    "$$\n",
    "\n",
    "Let\n",
    "$$\n",
    "D_{ij} \\equiv \\left\\{\n",
    "\\begin{array}{rl}\n",
    "    \\operatorname{deg}(i) & i = j \\\\\n",
    "                        0 & \\textrm{else}\n",
    "\\end{array}\n",
    "\\right.\n",
    "$$\n",
    "\n",
    "Let $T \\equiv A + D$. Then we can write the proudness condition as\n",
    "\n",
    "$$\n",
    "\\begin{array}{rl}\n",
    "    T_{ii} &> \\dfrac{\\sum_{j\\neq i} T_{ij}T_{jj}}{\\sum_{j\\neq i} T_{ij}} \\\\\n",
    "    \\sum_{j\\neq i} T_{ij} T_{ii} &> \\sum_{j\\neq i} T_{ij}T_{jj} \\\\\n",
    "    \\sum_{j\\neq i} T_{ij} (T_{ii} - T_{jj}) &> 0\n",
    "\\end{array}\n",
    "$$"
   ]
  },
  {
   "cell_type": "code",
   "execution_count": null,
   "metadata": {
    "collapsed": true
   },
   "outputs": [],
   "source": []
  }
 ],
 "metadata": {
  "kernelspec": {
   "display_name": "Python 3",
   "language": "python",
   "name": "python3"
  },
  "language_info": {
   "codemirror_mode": {
    "name": "ipython",
    "version": 3
   },
   "file_extension": ".py",
   "mimetype": "text/x-python",
   "name": "python",
   "nbconvert_exporter": "python",
   "pygments_lexer": "ipython3",
   "version": "3.5.1"
  }
 },
 "nbformat": 4,
 "nbformat_minor": 0
}
