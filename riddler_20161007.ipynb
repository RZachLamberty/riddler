{
 "cells": [
  {
   "cell_type": "code",
   "execution_count": 1,
   "metadata": {
    "ExecuteTime": {
     "end_time": "2016-10-07T13:26:42.653752",
     "start_time": "2016-10-07T13:26:40.751115"
    },
    "collapsed": true
   },
   "outputs": [],
   "source": [
    "%matplotlib inline\n",
    "\n",
    "import matplotlib.pyplot as plt\n",
    "import pandas as pd\n",
    "import scipy as sp\n",
    "import seaborn as sns"
   ]
  },
  {
   "cell_type": "markdown",
   "metadata": {
    "ExecuteTime": {
     "end_time": "2016-06-03T16:54:12.475519",
     "start_time": "2016-06-03T16:54:12.462652"
    }
   },
   "source": [
    "# Summary of Problem\n",
    "\n",
    "First, how long is the longest path a knight can travel on a standard 8-by-8 board without letting the path intersect itself?\n",
    "\n",
    "Second, there are unorthodox chess pieces that don’t exist in the standard game, which are known as fairy chess pieces.2 What are the longest nonintersecting paths that can be taken by the camel (which moves like a knight, except 3 squares by 1 square), the zebra (3 by 2), and the giraffe (4 by 1)?"
   ]
  },
  {
   "cell_type": "markdown",
   "metadata": {
    "collapsed": true
   },
   "source": [
    "pseudocode goal:\n",
    "\n",
    "```python\n",
    "piece = Knight()\n",
    "paths = Paths(piece)\n",
    "while not paths.cheese_stands_alone:\n",
    "    paths.take_step()\n",
    "paths\n",
    "```"
   ]
  },
  {
   "cell_type": "code",
   "execution_count": null,
   "metadata": {
    "collapsed": true
   },
   "outputs": [],
   "source": [
    "class Paths(object):\n",
    "    \"\"\"simple extended list\"\"\"\n",
    "    def __init__(self, Piece):\n",
    "        self.Piece = Piece\n",
    "        self.pieces = [self.Piece()]\n",
    "        self.take_step()\n",
    "        \n",
    "    @property\n",
    "    def cheese_stands_alone(self):\n",
    "        return len(self.pieces) <= 1\n",
    "    \n",
    "    def take_step(self):\n",
    "        newpieces = []\n",
    "        for piece in self.pieces:\n",
    "            newpieces += piece.valid_moves()"
   ]
  }
 ],
 "metadata": {
  "anaconda-cloud": {},
  "kernelspec": {
   "display_name": "Python [default]",
   "language": "python",
   "name": "python3"
  },
  "language_info": {
   "codemirror_mode": {
    "name": "ipython",
    "version": 3
   },
   "file_extension": ".py",
   "mimetype": "text/x-python",
   "name": "python",
   "nbconvert_exporter": "python",
   "pygments_lexer": "ipython3",
   "version": "3.5.2"
  },
  "toc": {
   "toc_cell": false,
   "toc_number_sections": true,
   "toc_threshold": 6,
   "toc_window_display": false
  }
 },
 "nbformat": 4,
 "nbformat_minor": 0
}
