{
 "cells": [
  {
   "cell_type": "code",
   "execution_count": 1,
   "metadata": {
    "ExecuteTime": {
     "end_time": "2017-01-13T13:21:51.691184",
     "start_time": "2017-01-13T13:21:50.539455"
    },
    "collapsed": true
   },
   "outputs": [],
   "source": [
    "%matplotlib notebook\n",
    "\n",
    "import itertools\n",
    "import random\n",
    "\n",
    "import matplotlib.pyplot as plt\n",
    "import pandas as pd\n",
    "import scipy as sp\n",
    "import seaborn as sns\n",
    "import tqdm"
   ]
  },
  {
   "cell_type": "markdown",
   "metadata": {
    "ExecuteTime": {
     "end_time": "2016-06-03T16:54:12.475519",
     "start_time": "2016-06-03T16:54:12.462652"
    }
   },
   "source": [
    "# Summary of Riddler Express\n",
    "\n",
    "It's your 30th birthday (congrats, by the way), and your friends bought you a cake with 30 candles on it. You make a wish and try to blow them out. Every time you blow, you blow out a random number of candles between one and the number that remain, including one and that other number. How many times do you blow before all the candles are extinguished, on average?"
   ]
  },
  {
   "cell_type": "markdown",
   "metadata": {},
   "source": [
    "## computational solution"
   ]
  },
  {
   "cell_type": "code",
   "execution_count": 2,
   "metadata": {
    "ExecuteTime": {
     "end_time": "2017-01-13T13:21:51.700886",
     "start_time": "2017-01-13T13:21:51.693733"
    },
    "collapsed": true
   },
   "outputs": [],
   "source": [
    "class Cake(object):\n",
    "    def __init__(self, numCandles=30):\n",
    "        self.numCandles = numCandles\n",
    "        self.numLit = self.numCandles\n",
    "        self.blows = 0\n",
    "\n",
    "    def blow(self):\n",
    "        self.numLit -= random.randint(1, self.numLit)\n",
    "        self.blows += 1\n",
    "        \n",
    "    @property\n",
    "    def blownOut(self):\n",
    "        return self.numLit == 0"
   ]
  },
  {
   "cell_type": "code",
   "execution_count": 3,
   "metadata": {
    "ExecuteTime": {
     "end_time": "2017-01-13T13:21:51.711500",
     "start_time": "2017-01-13T13:21:51.704647"
    },
    "collapsed": true
   },
   "outputs": [],
   "source": [
    "random.seed(1337)\n",
    "\n",
    "def simul(numCandles=30):\n",
    "    c = Cake(numCandles)\n",
    "    while not c.blownOut:\n",
    "        c.blow()\n",
    "    return c.blows"
   ]
  },
  {
   "cell_type": "code",
   "execution_count": 4,
   "metadata": {
    "ExecuteTime": {
     "end_time": "2017-01-13T13:23:56.294308",
     "start_time": "2017-01-13T13:21:51.802271"
    }
   },
   "outputs": [
    {
     "name": "stderr",
     "output_type": "stream",
     "text": [
      "100%|██████████| 10000000/10000000 [01:50<00:00, 90114.62it/s]\n"
     ]
    },
    {
     "data": {
      "text/plain": [
       "3.9948733999999999"
      ]
     },
     "execution_count": 4,
     "metadata": {},
     "output_type": "execute_result"
    }
   ],
   "source": [
    "numSimuls = 1e7\n",
    "numCandles = 30\n",
    "\n",
    "df = pd.DataFrame([{'n_blows': simul(numCandles)} for i in tqdm.trange(int(numSimuls))])\n",
    "df.n_blows.mean()"
   ]
  },
  {
   "cell_type": "markdown",
   "metadata": {},
   "source": [
    "## analytic solution"
   ]
  },
  {
   "cell_type": "markdown",
   "metadata": {},
   "source": [
    "$$\n",
    "\\dfrac{\\sum_{i=1}^N \\langle 0 | n A^n |31\\rangle}{N}\n",
    "$$\n",
    "\n",
    "Suppose $N=4$.\n",
    "\n",
    "| after 1 | after 2 | after 3 | after 4 |\n",
    "|---------|---------|---------|---------|\n",
    "| 0       |         |         |         |\n",
    "| 1       | 0       |         |         |\n",
    "| 2       | 0       |         |         |\n",
    "| 2       | 1       | 0       |         |\n",
    "| 3       | 0       |         |         |\n",
    "| 3       | 1       | 0       |         |\n",
    "| 3       | 2       | 0       |         |\n",
    "| 3       | 2       | 1       | 0       |\n",
    "\n",
    "at first I thought it was just a $n$ choose $k$ issue, but the probability that we would end in states 3, 2, and 1 are each equal in the above, so they are not actually equally weighted in our sum.\n",
    "\n",
    "Let \n",
    "$$\n",
    "p(i_0, i_1) = \\dfrac{1}{i_0}\n",
    "$$\n",
    "be the probability of going from $i_0$ candles to $i_1$ candles ($i_0 > i_1 >= 0$). \n",
    "\n",
    "To get to $0$ from $N$ in\n",
    "\n",
    "+ 1 step: $p(N, 0) = \\dfrac{1}{N}$\n",
    "+ 2 steps: $\\sum_{i=1}^N p(i, 0) = \\sum_{i=1}^N \\dfrac{1}{i}$"
   ]
  },
  {
   "cell_type": "code",
   "execution_count": 5,
   "metadata": {
    "ExecuteTime": {
     "end_time": "2017-01-13T13:23:56.302138",
     "start_time": "2017-01-13T13:23:56.297504"
    }
   },
   "outputs": [
    {
     "data": {
      "text/plain": [
       "3.9949871309203906"
      ]
     },
     "execution_count": 5,
     "metadata": {},
     "output_type": "execute_result"
    }
   ],
   "source": [
    "sum(1 / i for i in range(1, 31))"
   ]
  },
  {
   "cell_type": "markdown",
   "metadata": {},
   "source": [
    "# Summary of Riddler Classic\n",
    "\n",
    "You and I stumble across a 100-sided die in our local game shop. We know we need to have this die — there is no question about it — but we're not quite sure what to do with it. So we devise a simple game: We keep rolling our new purchase until one roll shows a number smaller than the one before. Suppose I give you a dollar every time you roll. How much money do you expect to win?\n",
    "\n",
    "*Extra credit*: What happens to the amount of money as the number of sides increases?"
   ]
  },
  {
   "cell_type": "code",
   "execution_count": 6,
   "metadata": {
    "ExecuteTime": {
     "end_time": "2017-01-13T13:23:56.321985",
     "start_time": "2017-01-13T13:23:56.303824"
    },
    "collapsed": true
   },
   "outputs": [],
   "source": [
    "class DiceGame(object):\n",
    "    def __init__(self, numSides=100):\n",
    "        self.numSides = numSides\n",
    "        self.numRolls = 0\n",
    "        self.vals = [0]\n",
    "        \n",
    "    def roll(self):\n",
    "        self.numRolls += 1\n",
    "        r = random.randint(1, 100)\n",
    "        self.vals.append(r)\n",
    "        \n",
    "    @property\n",
    "    def game_over(self):\n",
    "        return len(self.vals) > 1 and self.vals[-2] > self.vals[-1]\n",
    "    \n",
    "    \n",
    "def one_dice_game(numSides=100):\n",
    "    d = DiceGame(numSides)\n",
    "    while not d.game_over:\n",
    "        d.roll()\n",
    "    return d.numRolls"
   ]
  },
  {
   "cell_type": "code",
   "execution_count": 7,
   "metadata": {
    "ExecuteTime": {
     "end_time": "2017-01-13T13:25:39.845708",
     "start_time": "2017-01-13T13:23:56.324686"
    }
   },
   "outputs": [
    {
     "name": "stderr",
     "output_type": "stream",
     "text": [
      "100%|██████████| 10000000/10000000 [01:30<00:00, 110937.73it/s]\n"
     ]
    },
    {
     "data": {
      "text/plain": [
       "2.7321184000000001"
      ]
     },
     "execution_count": 7,
     "metadata": {},
     "output_type": "execute_result"
    }
   ],
   "source": [
    "numSimuls = 1e7\n",
    "numSides = 100\n",
    "\n",
    "df = pd.DataFrame([{'n_rolls': one_dice_game(numSides)} for i in tqdm.trange(int(numSimuls))])\n",
    "df.n_rolls.mean()"
   ]
  },
  {
   "cell_type": "code",
   "execution_count": 10,
   "metadata": {
    "ExecuteTime": {
     "end_time": "2017-01-13T13:26:22.697853",
     "start_time": "2017-01-13T13:26:22.689394"
    }
   },
   "outputs": [
    {
     "data": {
      "text/plain": [
       "2.7182818284590451"
      ]
     },
     "execution_count": 10,
     "metadata": {},
     "output_type": "execute_result"
    }
   ],
   "source": [
    "sp.exp(1)"
   ]
  },
  {
   "cell_type": "code",
   "execution_count": null,
   "metadata": {
    "collapsed": true
   },
   "outputs": [],
   "source": []
  }
 ],
 "metadata": {
  "anaconda-cloud": {},
  "kernelspec": {
   "display_name": "Python 3",
   "language": "python",
   "name": "python3"
  },
  "language_info": {
   "codemirror_mode": {
    "name": "ipython",
    "version": 3
   },
   "file_extension": ".py",
   "mimetype": "text/x-python",
   "name": "python",
   "nbconvert_exporter": "python",
   "pygments_lexer": "ipython3",
   "version": "3.6.1"
  },
  "toc": {
   "toc_cell": false,
   "toc_number_sections": true,
   "toc_threshold": 6,
   "toc_window_display": false
  }
 },
 "nbformat": 4,
 "nbformat_minor": 1
}
