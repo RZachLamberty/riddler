{
 "cells": [
  {
   "cell_type": "code",
   "execution_count": 1,
   "metadata": {
    "ExecuteTime": {
     "end_time": "2016-06-06T09:58:16.120887",
     "start_time": "2016-06-06T09:58:14.918716"
    },
    "collapsed": true
   },
   "outputs": [],
   "source": [
    "%matplotlib inline\n",
    "\n",
    "import collections\n",
    "import pprint\n",
    "\n",
    "import numpy as np\n",
    "import pandas as pd\n",
    "import seaborn as sns\n",
    "import tqdm"
   ]
  },
  {
   "cell_type": "markdown",
   "metadata": {
    "ExecuteTime": {
     "end_time": "2016-06-03T16:54:12.475519",
     "start_time": "2016-06-03T16:54:12.462652"
    }
   },
   "source": [
    "# Summary of Problem\n",
    "\n",
    "Ten Perfectly Rational Pirate Logicians (PRPLs) find 10 (indivisible) gold pieces and wish to distribute the booty among themselves.\n",
    "\n",
    "The pirates each have a unique rank, from the captain on down. The captain puts forth the first plan to divide up the gold, whereupon the pirates (including the captain) vote. If at least half the pirates vote for the plan, it is enacted, and the gold is distributed accordingly. If the plan gets fewer than half the votes, however, the captain is killed, the second-in-command is promoted, and the process starts over. (They’re mutinous, these PRPLs.)\n",
    "\n",
    "Pirates always vote by the following rules, with the earliest rule taking precedence in a conflict:\n",
    "\n",
    "1. Self-preservation: A pirate values his life above all else.\n",
    "1. Greed: A pirate seeks as much gold as possible.\n",
    "1. Bloodthirst: Failing a threat to his life or bounty, a pirate always votes to kill.\n",
    "\n",
    "Under this system, how do the PRPLs divide up their gold?\n",
    "\n",
    "Extra credit: Solve the generalized problem where there are P pirates and G gold pieces.\n",
    "\n",
    "\n",
    "\n",
    "## preliminary thoughts\n",
    "\n",
    "This strikes me as an induction algorithm. Assume we know how $n_p$ pirates will divvy up $n_c$ gold coins. Call this distribution of coins $d^{n_p}$, and in it each pirate gets $d_i^{n_p}$. Can we determine from that distribution how $n_p + 1$ pirates will divvy up their gold?\n",
    "\n",
    "Given the previous best value, the above voting logic can be broken down as follows:\n",
    "\n",
    "$$\n",
    "\\textrm{vote} = \\left\\{\n",
    "\\begin{array}{rl}\n",
    "    \\textrm{AYE AYE} & i = n_p + 1 \\textrm{ (because of self-preservation)} \\\\\n",
    "    \\textrm{AYE AYE} & d_i^{n_p + 1} > d_i^{n_p} \\textrm{ (because of greed)} \\\\\n",
    "    \\textrm{ARGH} & d_i^{n_p + 1} \\leq d_i^{n_p} \\textrm{ (because of greed (less than) and bloodthirst (equal))} \\\\\n",
    "\\end{array}\n",
    "\\right.\n",
    "$$\n",
    "\n",
    "The base cases of $n=1$ and $n=2$ are easily solved (in both, the captain pirate takes all $n_c$ coins), so this should be fairly easy to iterate."
   ]
  },
  {
   "cell_type": "code",
   "execution_count": 2,
   "metadata": {
    "ExecuteTime": {
     "end_time": "2016-06-06T09:58:16.134395",
     "start_time": "2016-06-06T09:58:16.122815"
    },
    "collapsed": true
   },
   "outputs": [],
   "source": [
    "AYE_AYE = True\n",
    "MURRRRRRRDER = False\n",
    "\n",
    "class Pirate(object):\n",
    "    num = 0\n",
    "    @classmethod\n",
    "    def reset_numbers(cls):\n",
    "        Pirate.num = 0\n",
    "        \n",
    "    def __init__(self, isCaptain=False):\n",
    "        self.number = Pirate.num\n",
    "        Pirate.num += 1\n",
    "        self.isCaptain = isCaptain\n",
    "        self.previous_best = collections.defaultdict(int)\n",
    "        \n",
    "    def me_vote_is(self, distribution):\n",
    "        return self.isCaptain or (distribution[self.number] > self.previous_best[len(distribution) - 1])\n",
    "    \n",
    "    def ye_get_what_i_give_ye(self, numCoins, numPirates):\n",
    "        self.previous_best[numPirates] = numCoins"
   ]
  },
  {
   "cell_type": "code",
   "execution_count": 3,
   "metadata": {
    "ExecuteTime": {
     "end_time": "2016-06-06T09:58:16.209899",
     "start_time": "2016-06-06T09:58:16.137230"
    },
    "collapsed": false
   },
   "outputs": [],
   "source": [
    "class Crew(object):\n",
    "    def __init__(self, num):\n",
    "        Pirate.reset_numbers()\n",
    "        self.optimal = {}\n",
    "        self.pirates = [Pirate() for i in range(num)]\n",
    "        \n",
    "    def new_captain(self):\n",
    "        for p in self.pirates:\n",
    "            p.isCaptain = False\n",
    "        c = Pirate(isCaptain=True)\n",
    "        self.captain = c\n",
    "        self.pirates.append(self.captain)\n",
    "        \n",
    "    def find_optimal_distribution(self, numCoins):\n",
    "        self.optimal[self.num_pirates] = {\n",
    "            'capnsGold': 0,\n",
    "            'dist': None\n",
    "        }\n",
    "        for dist in self.distributions(numCoins):\n",
    "            votes = [p.me_vote_is(dist) for p in self.pirates]\n",
    "            hasVotes = sum(votes) >= (self.num_pirates / 2)\n",
    "            capnsHappy = dist[-1] > self.optimal[self.num_pirates]['capnsGold']\n",
    "            if hasVotes and capnsHappy:\n",
    "                self.optimal[self.num_pirates] = {\n",
    "                    'capnsGold': dist[-1],\n",
    "                    'dist': dist\n",
    "                }\n",
    "        # update based on best distribution possible\n",
    "        for (p, d) in zip(self.pirates, self.optimal[self.num_pirates]['dist']):\n",
    "            p.ye_get_what_i_give_ye(d, self.num_pirates)\n",
    "    \n",
    "    @property\n",
    "    def num_pirates(self):\n",
    "        return len(self.pirates)\n",
    "    \n",
    "    def distributions(self, numCoins, numPirates=None):\n",
    "        if numPirates is None:\n",
    "            numPirates = self.num_pirates\n",
    "        # base cases:\n",
    "        if numPirates == 0:\n",
    "            return\n",
    "        elif numPirates == 1:\n",
    "            yield [numCoins]\n",
    "        else:\n",
    "            for capnNum in range(numCoins + 1):\n",
    "                leftOver = numCoins - capnNum\n",
    "                for subDist in self.distributions(leftOver, numPirates - 1):\n",
    "                    yield [capnNum] + subDist\n",
    "    \n",
    "    def iterate(self, numCoins, verbose=False):\n",
    "        self.new_captain()\n",
    "        self.find_optimal_distribution(numCoins)\n",
    "        if verbose:\n",
    "            pprint.pprint(self.optimal)\n",
    "\n",
    "        \n",
    "def solve(numPirates, numCoins):\n",
    "    c = Crew(1)\n",
    "    c.find_optimal_distribution(numCoins=numCoins)\n",
    "    for i in range(1, numPirates):\n",
    "        c.iterate(numCoins, verbose=(i == (numPirates - 1)))\n",
    "    return c"
   ]
  },
  {
   "cell_type": "code",
   "execution_count": 4,
   "metadata": {
    "ExecuteTime": {
     "end_time": "2016-06-06T09:58:18.017056",
     "start_time": "2016-06-06T09:58:16.211504"
    },
    "collapsed": false
   },
   "outputs": [
    {
     "name": "stdout",
     "output_type": "stream",
     "text": [
      "{1: {'capnsGold': 10, 'dist': [10]},\n",
      " 2: {'capnsGold': 10, 'dist': [0, 10]},\n",
      " 3: {'capnsGold': 9, 'dist': [1, 0, 9]},\n",
      " 4: {'capnsGold': 9, 'dist': [0, 1, 0, 9]},\n",
      " 5: {'capnsGold': 8, 'dist': [1, 0, 1, 0, 8]},\n",
      " 6: {'capnsGold': 8, 'dist': [0, 1, 0, 1, 0, 8]},\n",
      " 7: {'capnsGold': 7, 'dist': [1, 0, 1, 0, 1, 0, 7]},\n",
      " 8: {'capnsGold': 7, 'dist': [0, 1, 0, 1, 0, 1, 0, 7]},\n",
      " 9: {'capnsGold': 6, 'dist': [1, 0, 1, 0, 1, 0, 1, 0, 6]},\n",
      " 10: {'capnsGold': 6, 'dist': [0, 1, 0, 1, 0, 1, 0, 1, 0, 6]}}\n"
     ]
    },
    {
     "data": {
      "text/plain": [
       "<__main__.Crew at 0x103ccf2e8>"
      ]
     },
     "execution_count": 4,
     "metadata": {},
     "output_type": "execute_result"
    }
   ],
   "source": [
    "solve(numPirates=10, numCoins=10)"
   ]
  },
  {
   "cell_type": "code",
   "execution_count": null,
   "metadata": {
    "collapsed": true
   },
   "outputs": [],
   "source": []
  }
 ],
 "metadata": {
  "kernelspec": {
   "display_name": "Python 3",
   "language": "python",
   "name": "python3"
  },
  "language_info": {
   "codemirror_mode": {
    "name": "ipython",
    "version": 3
   },
   "file_extension": ".py",
   "mimetype": "text/x-python",
   "name": "python",
   "nbconvert_exporter": "python",
   "pygments_lexer": "ipython3",
   "version": "3.5.2"
  },
  "toc": {
   "toc_cell": false,
   "toc_number_sections": true,
   "toc_threshold": 6,
   "toc_window_display": false
  }
 },
 "nbformat": 4,
 "nbformat_minor": 0
}
