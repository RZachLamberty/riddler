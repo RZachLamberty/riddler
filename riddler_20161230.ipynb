{
 "cells": [
  {
   "cell_type": "code",
   "execution_count": 248,
   "metadata": {
    "ExecuteTime": {
     "end_time": "2016-12-30T13:14:48.747170",
     "start_time": "2016-12-30T13:14:48.738899"
    },
    "collapsed": true
   },
   "outputs": [],
   "source": [
    "%matplotlib notebook\n",
    "\n",
    "import itertools\n",
    "import random\n",
    "\n",
    "import matplotlib.pyplot as plt\n",
    "import pandas as pd\n",
    "import scipy as sp\n",
    "import seaborn as sns\n",
    "import tqdm"
   ]
  },
  {
   "cell_type": "markdown",
   "metadata": {
    "ExecuteTime": {
     "end_time": "2016-06-03T16:54:12.475519",
     "start_time": "2016-06-03T16:54:12.462652"
    }
   },
   "source": [
    "# Summary of Riddler Express\n",
    "\n",
    "On snowy afternoons, you like to play a solitaire “game” with a standard, randomly shuffled deck of 52 cards. You start dealing cards face up, one at a time, into a pile. As you deal each card, you also speak aloud, in order, the 13 card faces in a standard deck: ace, two, three, etc. (When you get to king, you start over at ace.) You keep doing this until the rank of the card you deal matches the rank you speak aloud, in which case you lose. You win if you reach the end of the deck without any matches.\n",
    "\n",
    "What is the probability that you win?"
   ]
  },
  {
   "cell_type": "code",
   "execution_count": 20,
   "metadata": {
    "ExecuteTime": {
     "end_time": "2016-12-30T10:05:05.606328",
     "start_time": "2016-12-30T10:05:05.600383"
    },
    "collapsed": true
   },
   "outputs": [],
   "source": [
    "deck = list(range(52))\n",
    "WIN = True\n",
    "LOSE = False\n",
    "\n",
    "def game(deck):\n",
    "    random.shuffle(deck)\n",
    "    for (i, elem) in enumerate(deck):\n",
    "        if (i % 13) == (elem % 13):\n",
    "            return LOSE\n",
    "    return WIN"
   ]
  },
  {
   "cell_type": "code",
   "execution_count": 30,
   "metadata": {
    "ExecuteTime": {
     "end_time": "2016-12-30T10:08:20.696304",
     "start_time": "2016-12-30T10:07:31.418958"
    }
   },
   "outputs": [
    {
     "name": "stderr",
     "output_type": "stream",
     "text": [
      "100%|██████████| 1000000/1000000 [00:49<00:00, 20312.35it/s]\n"
     ]
    },
    {
     "data": {
      "text/plain": [
       "0.016195"
      ]
     },
     "execution_count": 30,
     "metadata": {},
     "output_type": "execute_result"
    }
   ],
   "source": [
    "numSimuls = int(1e6)\n",
    "x = [game(deck) for i in tqdm.trange(numSimuls)]\n",
    "sum(x) / len(x)"
   ]
  },
  {
   "cell_type": "markdown",
   "metadata": {},
   "source": [
    "## interactive plot of one large simulation"
   ]
  },
  {
   "cell_type": "code",
   "execution_count": 140,
   "metadata": {
    "ExecuteTime": {
     "end_time": "2016-12-30T11:08:03.136614",
     "start_time": "2016-12-30T10:57:22.900763"
    }
   },
   "outputs": [
    {
     "data": {
      "application/javascript": [
       "/* Put everything inside the global mpl namespace */\n",
       "window.mpl = {};\n",
       "\n",
       "mpl.get_websocket_type = function() {\n",
       "    if (typeof(WebSocket) !== 'undefined') {\n",
       "        return WebSocket;\n",
       "    } else if (typeof(MozWebSocket) !== 'undefined') {\n",
       "        return MozWebSocket;\n",
       "    } else {\n",
       "        alert('Your browser does not have WebSocket support.' +\n",
       "              'Please try Chrome, Safari or Firefox ≥ 6. ' +\n",
       "              'Firefox 4 and 5 are also supported but you ' +\n",
       "              'have to enable WebSockets in about:config.');\n",
       "    };\n",
       "}\n",
       "\n",
       "mpl.figure = function(figure_id, websocket, ondownload, parent_element) {\n",
       "    this.id = figure_id;\n",
       "\n",
       "    this.ws = websocket;\n",
       "\n",
       "    this.supports_binary = (this.ws.binaryType != undefined);\n",
       "\n",
       "    if (!this.supports_binary) {\n",
       "        var warnings = document.getElementById(\"mpl-warnings\");\n",
       "        if (warnings) {\n",
       "            warnings.style.display = 'block';\n",
       "            warnings.textContent = (\n",
       "                \"This browser does not support binary websocket messages. \" +\n",
       "                    \"Performance may be slow.\");\n",
       "        }\n",
       "    }\n",
       "\n",
       "    this.imageObj = new Image();\n",
       "\n",
       "    this.context = undefined;\n",
       "    this.message = undefined;\n",
       "    this.canvas = undefined;\n",
       "    this.rubberband_canvas = undefined;\n",
       "    this.rubberband_context = undefined;\n",
       "    this.format_dropdown = undefined;\n",
       "\n",
       "    this.image_mode = 'full';\n",
       "\n",
       "    this.root = $('<div/>');\n",
       "    this._root_extra_style(this.root)\n",
       "    this.root.attr('style', 'display: inline-block');\n",
       "\n",
       "    $(parent_element).append(this.root);\n",
       "\n",
       "    this._init_header(this);\n",
       "    this._init_canvas(this);\n",
       "    this._init_toolbar(this);\n",
       "\n",
       "    var fig = this;\n",
       "\n",
       "    this.waiting = false;\n",
       "\n",
       "    this.ws.onopen =  function () {\n",
       "            fig.send_message(\"supports_binary\", {value: fig.supports_binary});\n",
       "            fig.send_message(\"send_image_mode\", {});\n",
       "            fig.send_message(\"refresh\", {});\n",
       "        }\n",
       "\n",
       "    this.imageObj.onload = function() {\n",
       "            if (fig.image_mode == 'full') {\n",
       "                // Full images could contain transparency (where diff images\n",
       "                // almost always do), so we need to clear the canvas so that\n",
       "                // there is no ghosting.\n",
       "                fig.context.clearRect(0, 0, fig.canvas.width, fig.canvas.height);\n",
       "            }\n",
       "            fig.context.drawImage(fig.imageObj, 0, 0);\n",
       "        };\n",
       "\n",
       "    this.imageObj.onunload = function() {\n",
       "        this.ws.close();\n",
       "    }\n",
       "\n",
       "    this.ws.onmessage = this._make_on_message_function(this);\n",
       "\n",
       "    this.ondownload = ondownload;\n",
       "}\n",
       "\n",
       "mpl.figure.prototype._init_header = function() {\n",
       "    var titlebar = $(\n",
       "        '<div class=\"ui-dialog-titlebar ui-widget-header ui-corner-all ' +\n",
       "        'ui-helper-clearfix\"/>');\n",
       "    var titletext = $(\n",
       "        '<div class=\"ui-dialog-title\" style=\"width: 100%; ' +\n",
       "        'text-align: center; padding: 3px;\"/>');\n",
       "    titlebar.append(titletext)\n",
       "    this.root.append(titlebar);\n",
       "    this.header = titletext[0];\n",
       "}\n",
       "\n",
       "\n",
       "\n",
       "mpl.figure.prototype._canvas_extra_style = function(canvas_div) {\n",
       "\n",
       "}\n",
       "\n",
       "\n",
       "mpl.figure.prototype._root_extra_style = function(canvas_div) {\n",
       "\n",
       "}\n",
       "\n",
       "mpl.figure.prototype._init_canvas = function() {\n",
       "    var fig = this;\n",
       "\n",
       "    var canvas_div = $('<div/>');\n",
       "\n",
       "    canvas_div.attr('style', 'position: relative; clear: both; outline: 0');\n",
       "\n",
       "    function canvas_keyboard_event(event) {\n",
       "        return fig.key_event(event, event['data']);\n",
       "    }\n",
       "\n",
       "    canvas_div.keydown('key_press', canvas_keyboard_event);\n",
       "    canvas_div.keyup('key_release', canvas_keyboard_event);\n",
       "    this.canvas_div = canvas_div\n",
       "    this._canvas_extra_style(canvas_div)\n",
       "    this.root.append(canvas_div);\n",
       "\n",
       "    var canvas = $('<canvas/>');\n",
       "    canvas.addClass('mpl-canvas');\n",
       "    canvas.attr('style', \"left: 0; top: 0; z-index: 0; outline: 0\")\n",
       "\n",
       "    this.canvas = canvas[0];\n",
       "    this.context = canvas[0].getContext(\"2d\");\n",
       "\n",
       "    var rubberband = $('<canvas/>');\n",
       "    rubberband.attr('style', \"position: absolute; left: 0; top: 0; z-index: 1;\")\n",
       "\n",
       "    var pass_mouse_events = true;\n",
       "\n",
       "    canvas_div.resizable({\n",
       "        start: function(event, ui) {\n",
       "            pass_mouse_events = false;\n",
       "        },\n",
       "        resize: function(event, ui) {\n",
       "            fig.request_resize(ui.size.width, ui.size.height);\n",
       "        },\n",
       "        stop: function(event, ui) {\n",
       "            pass_mouse_events = true;\n",
       "            fig.request_resize(ui.size.width, ui.size.height);\n",
       "        },\n",
       "    });\n",
       "\n",
       "    function mouse_event_fn(event) {\n",
       "        if (pass_mouse_events)\n",
       "            return fig.mouse_event(event, event['data']);\n",
       "    }\n",
       "\n",
       "    rubberband.mousedown('button_press', mouse_event_fn);\n",
       "    rubberband.mouseup('button_release', mouse_event_fn);\n",
       "    // Throttle sequential mouse events to 1 every 20ms.\n",
       "    rubberband.mousemove('motion_notify', mouse_event_fn);\n",
       "\n",
       "    rubberband.mouseenter('figure_enter', mouse_event_fn);\n",
       "    rubberband.mouseleave('figure_leave', mouse_event_fn);\n",
       "\n",
       "    canvas_div.on(\"wheel\", function (event) {\n",
       "        event = event.originalEvent;\n",
       "        event['data'] = 'scroll'\n",
       "        if (event.deltaY < 0) {\n",
       "            event.step = 1;\n",
       "        } else {\n",
       "            event.step = -1;\n",
       "        }\n",
       "        mouse_event_fn(event);\n",
       "    });\n",
       "\n",
       "    canvas_div.append(canvas);\n",
       "    canvas_div.append(rubberband);\n",
       "\n",
       "    this.rubberband = rubberband;\n",
       "    this.rubberband_canvas = rubberband[0];\n",
       "    this.rubberband_context = rubberband[0].getContext(\"2d\");\n",
       "    this.rubberband_context.strokeStyle = \"#000000\";\n",
       "\n",
       "    this._resize_canvas = function(width, height) {\n",
       "        // Keep the size of the canvas, canvas container, and rubber band\n",
       "        // canvas in synch.\n",
       "        canvas_div.css('width', width)\n",
       "        canvas_div.css('height', height)\n",
       "\n",
       "        canvas.attr('width', width);\n",
       "        canvas.attr('height', height);\n",
       "\n",
       "        rubberband.attr('width', width);\n",
       "        rubberband.attr('height', height);\n",
       "    }\n",
       "\n",
       "    // Set the figure to an initial 600x600px, this will subsequently be updated\n",
       "    // upon first draw.\n",
       "    this._resize_canvas(600, 600);\n",
       "\n",
       "    // Disable right mouse context menu.\n",
       "    $(this.rubberband_canvas).bind(\"contextmenu\",function(e){\n",
       "        return false;\n",
       "    });\n",
       "\n",
       "    function set_focus () {\n",
       "        canvas.focus();\n",
       "        canvas_div.focus();\n",
       "    }\n",
       "\n",
       "    window.setTimeout(set_focus, 100);\n",
       "}\n",
       "\n",
       "mpl.figure.prototype._init_toolbar = function() {\n",
       "    var fig = this;\n",
       "\n",
       "    var nav_element = $('<div/>')\n",
       "    nav_element.attr('style', 'width: 100%');\n",
       "    this.root.append(nav_element);\n",
       "\n",
       "    // Define a callback function for later on.\n",
       "    function toolbar_event(event) {\n",
       "        return fig.toolbar_button_onclick(event['data']);\n",
       "    }\n",
       "    function toolbar_mouse_event(event) {\n",
       "        return fig.toolbar_button_onmouseover(event['data']);\n",
       "    }\n",
       "\n",
       "    for(var toolbar_ind in mpl.toolbar_items) {\n",
       "        var name = mpl.toolbar_items[toolbar_ind][0];\n",
       "        var tooltip = mpl.toolbar_items[toolbar_ind][1];\n",
       "        var image = mpl.toolbar_items[toolbar_ind][2];\n",
       "        var method_name = mpl.toolbar_items[toolbar_ind][3];\n",
       "\n",
       "        if (!name) {\n",
       "            // put a spacer in here.\n",
       "            continue;\n",
       "        }\n",
       "        var button = $('<button/>');\n",
       "        button.addClass('ui-button ui-widget ui-state-default ui-corner-all ' +\n",
       "                        'ui-button-icon-only');\n",
       "        button.attr('role', 'button');\n",
       "        button.attr('aria-disabled', 'false');\n",
       "        button.click(method_name, toolbar_event);\n",
       "        button.mouseover(tooltip, toolbar_mouse_event);\n",
       "\n",
       "        var icon_img = $('<span/>');\n",
       "        icon_img.addClass('ui-button-icon-primary ui-icon');\n",
       "        icon_img.addClass(image);\n",
       "        icon_img.addClass('ui-corner-all');\n",
       "\n",
       "        var tooltip_span = $('<span/>');\n",
       "        tooltip_span.addClass('ui-button-text');\n",
       "        tooltip_span.html(tooltip);\n",
       "\n",
       "        button.append(icon_img);\n",
       "        button.append(tooltip_span);\n",
       "\n",
       "        nav_element.append(button);\n",
       "    }\n",
       "\n",
       "    var fmt_picker_span = $('<span/>');\n",
       "\n",
       "    var fmt_picker = $('<select/>');\n",
       "    fmt_picker.addClass('mpl-toolbar-option ui-widget ui-widget-content');\n",
       "    fmt_picker_span.append(fmt_picker);\n",
       "    nav_element.append(fmt_picker_span);\n",
       "    this.format_dropdown = fmt_picker[0];\n",
       "\n",
       "    for (var ind in mpl.extensions) {\n",
       "        var fmt = mpl.extensions[ind];\n",
       "        var option = $(\n",
       "            '<option/>', {selected: fmt === mpl.default_extension}).html(fmt);\n",
       "        fmt_picker.append(option)\n",
       "    }\n",
       "\n",
       "    // Add hover states to the ui-buttons\n",
       "    $( \".ui-button\" ).hover(\n",
       "        function() { $(this).addClass(\"ui-state-hover\");},\n",
       "        function() { $(this).removeClass(\"ui-state-hover\");}\n",
       "    );\n",
       "\n",
       "    var status_bar = $('<span class=\"mpl-message\"/>');\n",
       "    nav_element.append(status_bar);\n",
       "    this.message = status_bar[0];\n",
       "}\n",
       "\n",
       "mpl.figure.prototype.request_resize = function(x_pixels, y_pixels) {\n",
       "    // Request matplotlib to resize the figure. Matplotlib will then trigger a resize in the client,\n",
       "    // which will in turn request a refresh of the image.\n",
       "    this.send_message('resize', {'width': x_pixels, 'height': y_pixels});\n",
       "}\n",
       "\n",
       "mpl.figure.prototype.send_message = function(type, properties) {\n",
       "    properties['type'] = type;\n",
       "    properties['figure_id'] = this.id;\n",
       "    this.ws.send(JSON.stringify(properties));\n",
       "}\n",
       "\n",
       "mpl.figure.prototype.send_draw_message = function() {\n",
       "    if (!this.waiting) {\n",
       "        this.waiting = true;\n",
       "        this.ws.send(JSON.stringify({type: \"draw\", figure_id: this.id}));\n",
       "    }\n",
       "}\n",
       "\n",
       "\n",
       "mpl.figure.prototype.handle_save = function(fig, msg) {\n",
       "    var format_dropdown = fig.format_dropdown;\n",
       "    var format = format_dropdown.options[format_dropdown.selectedIndex].value;\n",
       "    fig.ondownload(fig, format);\n",
       "}\n",
       "\n",
       "\n",
       "mpl.figure.prototype.handle_resize = function(fig, msg) {\n",
       "    var size = msg['size'];\n",
       "    if (size[0] != fig.canvas.width || size[1] != fig.canvas.height) {\n",
       "        fig._resize_canvas(size[0], size[1]);\n",
       "        fig.send_message(\"refresh\", {});\n",
       "    };\n",
       "}\n",
       "\n",
       "mpl.figure.prototype.handle_rubberband = function(fig, msg) {\n",
       "    var x0 = msg['x0'];\n",
       "    var y0 = fig.canvas.height - msg['y0'];\n",
       "    var x1 = msg['x1'];\n",
       "    var y1 = fig.canvas.height - msg['y1'];\n",
       "    x0 = Math.floor(x0) + 0.5;\n",
       "    y0 = Math.floor(y0) + 0.5;\n",
       "    x1 = Math.floor(x1) + 0.5;\n",
       "    y1 = Math.floor(y1) + 0.5;\n",
       "    var min_x = Math.min(x0, x1);\n",
       "    var min_y = Math.min(y0, y1);\n",
       "    var width = Math.abs(x1 - x0);\n",
       "    var height = Math.abs(y1 - y0);\n",
       "\n",
       "    fig.rubberband_context.clearRect(\n",
       "        0, 0, fig.canvas.width, fig.canvas.height);\n",
       "\n",
       "    fig.rubberband_context.strokeRect(min_x, min_y, width, height);\n",
       "}\n",
       "\n",
       "mpl.figure.prototype.handle_figure_label = function(fig, msg) {\n",
       "    // Updates the figure title.\n",
       "    fig.header.textContent = msg['label'];\n",
       "}\n",
       "\n",
       "mpl.figure.prototype.handle_cursor = function(fig, msg) {\n",
       "    var cursor = msg['cursor'];\n",
       "    switch(cursor)\n",
       "    {\n",
       "    case 0:\n",
       "        cursor = 'pointer';\n",
       "        break;\n",
       "    case 1:\n",
       "        cursor = 'default';\n",
       "        break;\n",
       "    case 2:\n",
       "        cursor = 'crosshair';\n",
       "        break;\n",
       "    case 3:\n",
       "        cursor = 'move';\n",
       "        break;\n",
       "    }\n",
       "    fig.rubberband_canvas.style.cursor = cursor;\n",
       "}\n",
       "\n",
       "mpl.figure.prototype.handle_message = function(fig, msg) {\n",
       "    fig.message.textContent = msg['message'];\n",
       "}\n",
       "\n",
       "mpl.figure.prototype.handle_draw = function(fig, msg) {\n",
       "    // Request the server to send over a new figure.\n",
       "    fig.send_draw_message();\n",
       "}\n",
       "\n",
       "mpl.figure.prototype.handle_image_mode = function(fig, msg) {\n",
       "    fig.image_mode = msg['mode'];\n",
       "}\n",
       "\n",
       "mpl.figure.prototype.updated_canvas_event = function() {\n",
       "    // Called whenever the canvas gets updated.\n",
       "    this.send_message(\"ack\", {});\n",
       "}\n",
       "\n",
       "// A function to construct a web socket function for onmessage handling.\n",
       "// Called in the figure constructor.\n",
       "mpl.figure.prototype._make_on_message_function = function(fig) {\n",
       "    return function socket_on_message(evt) {\n",
       "        if (evt.data instanceof Blob) {\n",
       "            /* FIXME: We get \"Resource interpreted as Image but\n",
       "             * transferred with MIME type text/plain:\" errors on\n",
       "             * Chrome.  But how to set the MIME type?  It doesn't seem\n",
       "             * to be part of the websocket stream */\n",
       "            evt.data.type = \"image/png\";\n",
       "\n",
       "            /* Free the memory for the previous frames */\n",
       "            if (fig.imageObj.src) {\n",
       "                (window.URL || window.webkitURL).revokeObjectURL(\n",
       "                    fig.imageObj.src);\n",
       "            }\n",
       "\n",
       "            fig.imageObj.src = (window.URL || window.webkitURL).createObjectURL(\n",
       "                evt.data);\n",
       "            fig.updated_canvas_event();\n",
       "            fig.waiting = false;\n",
       "            return;\n",
       "        }\n",
       "        else if (typeof evt.data === 'string' && evt.data.slice(0, 21) == \"data:image/png;base64\") {\n",
       "            fig.imageObj.src = evt.data;\n",
       "            fig.updated_canvas_event();\n",
       "            fig.waiting = false;\n",
       "            return;\n",
       "        }\n",
       "\n",
       "        var msg = JSON.parse(evt.data);\n",
       "        var msg_type = msg['type'];\n",
       "\n",
       "        // Call the  \"handle_{type}\" callback, which takes\n",
       "        // the figure and JSON message as its only arguments.\n",
       "        try {\n",
       "            var callback = fig[\"handle_\" + msg_type];\n",
       "        } catch (e) {\n",
       "            console.log(\"No handler for the '\" + msg_type + \"' message type: \", msg);\n",
       "            return;\n",
       "        }\n",
       "\n",
       "        if (callback) {\n",
       "            try {\n",
       "                // console.log(\"Handling '\" + msg_type + \"' message: \", msg);\n",
       "                callback(fig, msg);\n",
       "            } catch (e) {\n",
       "                console.log(\"Exception inside the 'handler_\" + msg_type + \"' callback:\", e, e.stack, msg);\n",
       "            }\n",
       "        }\n",
       "    };\n",
       "}\n",
       "\n",
       "// from http://stackoverflow.com/questions/1114465/getting-mouse-location-in-canvas\n",
       "mpl.findpos = function(e) {\n",
       "    //this section is from http://www.quirksmode.org/js/events_properties.html\n",
       "    var targ;\n",
       "    if (!e)\n",
       "        e = window.event;\n",
       "    if (e.target)\n",
       "        targ = e.target;\n",
       "    else if (e.srcElement)\n",
       "        targ = e.srcElement;\n",
       "    if (targ.nodeType == 3) // defeat Safari bug\n",
       "        targ = targ.parentNode;\n",
       "\n",
       "    // jQuery normalizes the pageX and pageY\n",
       "    // pageX,Y are the mouse positions relative to the document\n",
       "    // offset() returns the position of the element relative to the document\n",
       "    var x = e.pageX - $(targ).offset().left;\n",
       "    var y = e.pageY - $(targ).offset().top;\n",
       "\n",
       "    return {\"x\": x, \"y\": y};\n",
       "};\n",
       "\n",
       "/*\n",
       " * return a copy of an object with only non-object keys\n",
       " * we need this to avoid circular references\n",
       " * http://stackoverflow.com/a/24161582/3208463\n",
       " */\n",
       "function simpleKeys (original) {\n",
       "  return Object.keys(original).reduce(function (obj, key) {\n",
       "    if (typeof original[key] !== 'object')\n",
       "        obj[key] = original[key]\n",
       "    return obj;\n",
       "  }, {});\n",
       "}\n",
       "\n",
       "mpl.figure.prototype.mouse_event = function(event, name) {\n",
       "    var canvas_pos = mpl.findpos(event)\n",
       "\n",
       "    if (name === 'button_press')\n",
       "    {\n",
       "        this.canvas.focus();\n",
       "        this.canvas_div.focus();\n",
       "    }\n",
       "\n",
       "    var x = canvas_pos.x;\n",
       "    var y = canvas_pos.y;\n",
       "\n",
       "    this.send_message(name, {x: x, y: y, button: event.button,\n",
       "                             step: event.step,\n",
       "                             guiEvent: simpleKeys(event)});\n",
       "\n",
       "    /* This prevents the web browser from automatically changing to\n",
       "     * the text insertion cursor when the button is pressed.  We want\n",
       "     * to control all of the cursor setting manually through the\n",
       "     * 'cursor' event from matplotlib */\n",
       "    event.preventDefault();\n",
       "    return false;\n",
       "}\n",
       "\n",
       "mpl.figure.prototype._key_event_extra = function(event, name) {\n",
       "    // Handle any extra behaviour associated with a key event\n",
       "}\n",
       "\n",
       "mpl.figure.prototype.key_event = function(event, name) {\n",
       "\n",
       "    // Prevent repeat events\n",
       "    if (name == 'key_press')\n",
       "    {\n",
       "        if (event.which === this._key)\n",
       "            return;\n",
       "        else\n",
       "            this._key = event.which;\n",
       "    }\n",
       "    if (name == 'key_release')\n",
       "        this._key = null;\n",
       "\n",
       "    var value = '';\n",
       "    if (event.ctrlKey && event.which != 17)\n",
       "        value += \"ctrl+\";\n",
       "    if (event.altKey && event.which != 18)\n",
       "        value += \"alt+\";\n",
       "    if (event.shiftKey && event.which != 16)\n",
       "        value += \"shift+\";\n",
       "\n",
       "    value += 'k';\n",
       "    value += event.which.toString();\n",
       "\n",
       "    this._key_event_extra(event, name);\n",
       "\n",
       "    this.send_message(name, {key: value,\n",
       "                             guiEvent: simpleKeys(event)});\n",
       "    return false;\n",
       "}\n",
       "\n",
       "mpl.figure.prototype.toolbar_button_onclick = function(name) {\n",
       "    if (name == 'download') {\n",
       "        this.handle_save(this, null);\n",
       "    } else {\n",
       "        this.send_message(\"toolbar_button\", {name: name});\n",
       "    }\n",
       "};\n",
       "\n",
       "mpl.figure.prototype.toolbar_button_onmouseover = function(tooltip) {\n",
       "    this.message.textContent = tooltip;\n",
       "};\n",
       "mpl.toolbar_items = [[\"Home\", \"Reset original view\", \"fa fa-home icon-home\", \"home\"], [\"Back\", \"Back to  previous view\", \"fa fa-arrow-left icon-arrow-left\", \"back\"], [\"Forward\", \"Forward to next view\", \"fa fa-arrow-right icon-arrow-right\", \"forward\"], [\"\", \"\", \"\", \"\"], [\"Pan\", \"Pan axes with left mouse, zoom with right\", \"fa fa-arrows icon-move\", \"pan\"], [\"Zoom\", \"Zoom to rectangle\", \"fa fa-square-o icon-check-empty\", \"zoom\"], [\"\", \"\", \"\", \"\"], [\"Download\", \"Download plot\", \"fa fa-floppy-o icon-save\", \"download\"]];\n",
       "\n",
       "mpl.extensions = [\"eps\", \"jpeg\", \"pdf\", \"png\", \"ps\", \"raw\", \"svg\", \"tif\"];\n",
       "\n",
       "mpl.default_extension = \"png\";var comm_websocket_adapter = function(comm) {\n",
       "    // Create a \"websocket\"-like object which calls the given IPython comm\n",
       "    // object with the appropriate methods. Currently this is a non binary\n",
       "    // socket, so there is still some room for performance tuning.\n",
       "    var ws = {};\n",
       "\n",
       "    ws.close = function() {\n",
       "        comm.close()\n",
       "    };\n",
       "    ws.send = function(m) {\n",
       "        //console.log('sending', m);\n",
       "        comm.send(m);\n",
       "    };\n",
       "    // Register the callback with on_msg.\n",
       "    comm.on_msg(function(msg) {\n",
       "        //console.log('receiving', msg['content']['data'], msg);\n",
       "        // Pass the mpl event to the overriden (by mpl) onmessage function.\n",
       "        ws.onmessage(msg['content']['data'])\n",
       "    });\n",
       "    return ws;\n",
       "}\n",
       "\n",
       "mpl.mpl_figure_comm = function(comm, msg) {\n",
       "    // This is the function which gets called when the mpl process\n",
       "    // starts-up an IPython Comm through the \"matplotlib\" channel.\n",
       "\n",
       "    var id = msg.content.data.id;\n",
       "    // Get hold of the div created by the display call when the Comm\n",
       "    // socket was opened in Python.\n",
       "    var element = $(\"#\" + id);\n",
       "    var ws_proxy = comm_websocket_adapter(comm)\n",
       "\n",
       "    function ondownload(figure, format) {\n",
       "        window.open(figure.imageObj.src);\n",
       "    }\n",
       "\n",
       "    var fig = new mpl.figure(id, ws_proxy,\n",
       "                           ondownload,\n",
       "                           element.get(0));\n",
       "\n",
       "    // Call onopen now - mpl needs it, as it is assuming we've passed it a real\n",
       "    // web socket which is closed, not our websocket->open comm proxy.\n",
       "    ws_proxy.onopen();\n",
       "\n",
       "    fig.parent_element = element.get(0);\n",
       "    fig.cell_info = mpl.find_output_cell(\"<div id='\" + id + \"'></div>\");\n",
       "    if (!fig.cell_info) {\n",
       "        console.error(\"Failed to find cell for figure\", id, fig);\n",
       "        return;\n",
       "    }\n",
       "\n",
       "    var output_index = fig.cell_info[2]\n",
       "    var cell = fig.cell_info[0];\n",
       "\n",
       "};\n",
       "\n",
       "mpl.figure.prototype.handle_close = function(fig, msg) {\n",
       "    fig.root.unbind('remove')\n",
       "\n",
       "    // Update the output cell to use the data from the current canvas.\n",
       "    fig.push_to_output();\n",
       "    var dataURL = fig.canvas.toDataURL();\n",
       "    // Re-enable the keyboard manager in IPython - without this line, in FF,\n",
       "    // the notebook keyboard shortcuts fail.\n",
       "    IPython.keyboard_manager.enable()\n",
       "    $(fig.parent_element).html('<img src=\"' + dataURL + '\">');\n",
       "    fig.close_ws(fig, msg);\n",
       "}\n",
       "\n",
       "mpl.figure.prototype.close_ws = function(fig, msg){\n",
       "    fig.send_message('closing', msg);\n",
       "    // fig.ws.close()\n",
       "}\n",
       "\n",
       "mpl.figure.prototype.push_to_output = function(remove_interactive) {\n",
       "    // Turn the data on the canvas into data in the output cell.\n",
       "    var dataURL = this.canvas.toDataURL();\n",
       "    this.cell_info[1]['text/html'] = '<img src=\"' + dataURL + '\">';\n",
       "}\n",
       "\n",
       "mpl.figure.prototype.updated_canvas_event = function() {\n",
       "    // Tell IPython that the notebook contents must change.\n",
       "    IPython.notebook.set_dirty(true);\n",
       "    this.send_message(\"ack\", {});\n",
       "    var fig = this;\n",
       "    // Wait a second, then push the new image to the DOM so\n",
       "    // that it is saved nicely (might be nice to debounce this).\n",
       "    setTimeout(function () { fig.push_to_output() }, 1000);\n",
       "}\n",
       "\n",
       "mpl.figure.prototype._init_toolbar = function() {\n",
       "    var fig = this;\n",
       "\n",
       "    var nav_element = $('<div/>')\n",
       "    nav_element.attr('style', 'width: 100%');\n",
       "    this.root.append(nav_element);\n",
       "\n",
       "    // Define a callback function for later on.\n",
       "    function toolbar_event(event) {\n",
       "        return fig.toolbar_button_onclick(event['data']);\n",
       "    }\n",
       "    function toolbar_mouse_event(event) {\n",
       "        return fig.toolbar_button_onmouseover(event['data']);\n",
       "    }\n",
       "\n",
       "    for(var toolbar_ind in mpl.toolbar_items){\n",
       "        var name = mpl.toolbar_items[toolbar_ind][0];\n",
       "        var tooltip = mpl.toolbar_items[toolbar_ind][1];\n",
       "        var image = mpl.toolbar_items[toolbar_ind][2];\n",
       "        var method_name = mpl.toolbar_items[toolbar_ind][3];\n",
       "\n",
       "        if (!name) { continue; };\n",
       "\n",
       "        var button = $('<button class=\"btn btn-default\" href=\"#\" title=\"' + name + '\"><i class=\"fa ' + image + ' fa-lg\"></i></button>');\n",
       "        button.click(method_name, toolbar_event);\n",
       "        button.mouseover(tooltip, toolbar_mouse_event);\n",
       "        nav_element.append(button);\n",
       "    }\n",
       "\n",
       "    // Add the status bar.\n",
       "    var status_bar = $('<span class=\"mpl-message\" style=\"text-align:right; float: right;\"/>');\n",
       "    nav_element.append(status_bar);\n",
       "    this.message = status_bar[0];\n",
       "\n",
       "    // Add the close button to the window.\n",
       "    var buttongrp = $('<div class=\"btn-group inline pull-right\"></div>');\n",
       "    var button = $('<button class=\"btn btn-mini btn-primary\" href=\"#\" title=\"Stop Interaction\"><i class=\"fa fa-power-off icon-remove icon-large\"></i></button>');\n",
       "    button.click(function (evt) { fig.handle_close(fig, {}); } );\n",
       "    button.mouseover('Stop Interaction', toolbar_mouse_event);\n",
       "    buttongrp.append(button);\n",
       "    var titlebar = this.root.find($('.ui-dialog-titlebar'));\n",
       "    titlebar.prepend(buttongrp);\n",
       "}\n",
       "\n",
       "mpl.figure.prototype._root_extra_style = function(el){\n",
       "    var fig = this\n",
       "    el.on(\"remove\", function(){\n",
       "\tfig.close_ws(fig, {});\n",
       "    });\n",
       "}\n",
       "\n",
       "mpl.figure.prototype._canvas_extra_style = function(el){\n",
       "    // this is important to make the div 'focusable\n",
       "    el.attr('tabindex', 0)\n",
       "    // reach out to IPython and tell the keyboard manager to turn it's self\n",
       "    // off when our div gets focus\n",
       "\n",
       "    // location in version 3\n",
       "    if (IPython.notebook.keyboard_manager) {\n",
       "        IPython.notebook.keyboard_manager.register_events(el);\n",
       "    }\n",
       "    else {\n",
       "        // location in version 2\n",
       "        IPython.keyboard_manager.register_events(el);\n",
       "    }\n",
       "\n",
       "}\n",
       "\n",
       "mpl.figure.prototype._key_event_extra = function(event, name) {\n",
       "    var manager = IPython.notebook.keyboard_manager;\n",
       "    if (!manager)\n",
       "        manager = IPython.keyboard_manager;\n",
       "\n",
       "    // Check for shift+enter\n",
       "    if (event.shiftKey && event.which == 13) {\n",
       "        this.canvas_div.blur();\n",
       "        // select the cell after this one\n",
       "        var index = IPython.notebook.find_cell_index(this.cell_info[0]);\n",
       "        IPython.notebook.select(index + 1);\n",
       "    }\n",
       "}\n",
       "\n",
       "mpl.figure.prototype.handle_save = function(fig, msg) {\n",
       "    fig.ondownload(fig, null);\n",
       "}\n",
       "\n",
       "\n",
       "mpl.find_output_cell = function(html_output) {\n",
       "    // Return the cell and output element which can be found *uniquely* in the notebook.\n",
       "    // Note - this is a bit hacky, but it is done because the \"notebook_saving.Notebook\"\n",
       "    // IPython event is triggered only after the cells have been serialised, which for\n",
       "    // our purposes (turning an active figure into a static one), is too late.\n",
       "    var cells = IPython.notebook.get_cells();\n",
       "    var ncells = cells.length;\n",
       "    for (var i=0; i<ncells; i++) {\n",
       "        var cell = cells[i];\n",
       "        if (cell.cell_type === 'code'){\n",
       "            for (var j=0; j<cell.output_area.outputs.length; j++) {\n",
       "                var data = cell.output_area.outputs[j];\n",
       "                if (data.data) {\n",
       "                    // IPython >= 3 moved mimebundle to data attribute of output\n",
       "                    data = data.data;\n",
       "                }\n",
       "                if (data['text/html'] == html_output) {\n",
       "                    return [cell, data, j];\n",
       "                }\n",
       "            }\n",
       "        }\n",
       "    }\n",
       "}\n",
       "\n",
       "// Register the function which deals with the matplotlib target/channel.\n",
       "// The kernel may be null if the page has been refreshed.\n",
       "if (IPython.notebook.kernel != null) {\n",
       "    IPython.notebook.kernel.comm_manager.register_target('matplotlib', mpl.mpl_figure_comm);\n",
       "}\n"
      ],
      "text/plain": [
       "<IPython.core.display.Javascript object>"
      ]
     },
     "metadata": {},
     "output_type": "display_data"
    },
    {
     "data": {
      "text/html": [
       "<img src=\"data:image/png;base64,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\">"
      ],
      "text/plain": [
       "<IPython.core.display.HTML object>"
      ]
     },
     "metadata": {},
     "output_type": "display_data"
    }
   ],
   "source": [
    "numSimuls = int(1e4)\n",
    "x = []\n",
    "probs = []\n",
    "f, s = plt.subplots()\n",
    "del plot\n",
    "p = 0\n",
    "for i in range(numSimuls):\n",
    "    xnow = game(deck)\n",
    "    x.append(xnow)\n",
    "    p = (i * p + xnow) / (i + 1)\n",
    "    probs.append(p)\n",
    "    \n",
    "    try:\n",
    "        plotData = plot.get_data()\n",
    "        newx = sp.append(plotData[0], i)\n",
    "        newy = sp.append(plotData[1], p)\n",
    "        plot.set_data((newx, newy))\n",
    "        s.set_xlim(-.5, i + .5)\n",
    "        f.canvas.draw()\n",
    "    except Exception as e:\n",
    "        plot = s.plot([i], [p], marker=None, linestyle='-')[0]\n",
    "        s.set_ylim(0, 0.1)"
   ]
  },
  {
   "cell_type": "markdown",
   "metadata": {},
   "source": [
    "## many large simulations, results averaged"
   ]
  },
  {
   "cell_type": "code",
   "execution_count": 151,
   "metadata": {
    "ExecuteTime": {
     "end_time": "2016-12-30T11:27:43.089574",
     "start_time": "2016-12-30T11:26:53.207170"
    }
   },
   "outputs": [
    {
     "name": "stdout",
     "output_type": "stream",
     "text": [
      "\n",
      "0.016056\n",
      "0.00120377074229\n"
     ]
    }
   ],
   "source": [
    "numSimuls = int(1e3)\n",
    "simulSize = int(1e5)\n",
    "\n",
    "results = []\n",
    "for i in tqdm.tnrange(numSimuls, desc='simulation group'):\n",
    "    wins = 0\n",
    "    for j in tqdm.tnrange(simulSize, desc='simulation', leave=False):\n",
    "        wins += game(deck)\n",
    "    results.append(wins / simulSize)\n",
    "    \n",
    "avResult = sp.average(results)\n",
    "stdResult = sp.std(results)\n",
    "\n",
    "print(avResult)\n",
    "print(stdResult)"
   ]
  },
  {
   "cell_type": "markdown",
   "metadata": {},
   "source": [
    "# Summary of Riddler Classic\n",
    "\n",
    "Baby poker is played by two players, each holding a single die in a cup. The game starts with each player anteing \\$1. Then both shake their die, roll it, and look at their own die only. Player A can then either “call,” in which case both dice are shown and the player with the higher number wins the \\$2 on the table, or Player A can “raise,” betting one more dollar. If A raises, then B has the option to either “call” by matching A’s second dollar, after which the higher number wins the \\$4 on the table, or B can “fold,” in which case A wins but B is out only his original \\$1. No other plays are made, and if the dice match, a called pot is split equally.\n",
    "\n",
    "What is the optimal strategy for each player? Under those strategies, how much is a game of baby poker worth to Player A? In other words, how much should A pay B beforehand to make it a fair game?"
   ]
  },
  {
   "cell_type": "markdown",
   "metadata": {},
   "source": [
    "## solving with a simulation"
   ]
  },
  {
   "cell_type": "code",
   "execution_count": 345,
   "metadata": {
    "ExecuteTime": {
     "end_time": "2016-12-30T14:37:48.971374",
     "start_time": "2016-12-30T14:37:48.945227"
    }
   },
   "outputs": [],
   "source": [
    "CALL = False\n",
    "RAISE = True\n",
    "FOLD = True\n",
    "\n",
    "random.seed(1337)\n",
    "\n",
    "class Gambler(object):\n",
    "    def roll(self):\n",
    "        return random.randint(0, 5)\n",
    "    \n",
    "    def bet(self, die):\n",
    "        raise NotImplementedError()\n",
    "        \n",
    "        \n",
    "class A(Gambler):\n",
    "    def __init__(self, strategy):\n",
    "        \"\"\"a strategy is a 5-element sequence of CALL or RAISE, indicating what \n",
    "        person A will do each time they see a die with that index's value. We\n",
    "        assume by fiat that a roll of 6 will always result in a RAISE\n",
    "        \n",
    "        for example:\n",
    "            \n",
    "            [CALL, CALL, RAISE, RAISE, RAISE]\n",
    "            \n",
    "        will call if a 0 or 1 is rolled, and will raise otherwise (assuming the\n",
    "        sides of our die are 0 - 5 and not 1 - 6 for convenience)\n",
    "        \n",
    "        \"\"\"\n",
    "        self.strategy = strategy + (RAISE,)\n",
    "        self.money = 0\n",
    "    \n",
    "    def bet(self, die):\n",
    "        return self.strategy[die]\n",
    "    \n",
    "    @staticmethod\n",
    "    def strategies():\n",
    "        \"\"\"a generator of all possible strategies for a type-A gambler\"\"\"\n",
    "        return itertools.product([CALL, RAISE], repeat=5)\n",
    "    \n",
    "    \n",
    "class B(Gambler):\n",
    "    def __init__(self, strategy):\n",
    "        \"\"\"B only makes decisions when A has raise, and their only decision is\n",
    "        CALL or FOLD. Therefore their strategies are effectively the same as\n",
    "        those of A. I could move this into the Gambler class, but I'll leave it\n",
    "        here just to be explicit. as with A, we assume that a die roll of 6 will \n",
    "        always result in a CALL \n",
    "            \n",
    "        \"\"\"\n",
    "        self.strategy = strategy + (CALL,)\n",
    "        self.money = 0\n",
    "        \n",
    "    def bet(self, die):\n",
    "        return self.strategy[die]\n",
    "    \n",
    "    @staticmethod\n",
    "    def strategies():\n",
    "        \"\"\"a generator of all possible strategies for a type-A gambler\"\"\"\n",
    "        return itertools.product([CALL, FOLD], repeat=5)"
   ]
  },
  {
   "cell_type": "code",
   "execution_count": 346,
   "metadata": {
    "ExecuteTime": {
     "end_time": "2016-12-30T14:37:49.579952",
     "start_time": "2016-12-30T14:37:49.574746"
    }
   },
   "outputs": [],
   "source": [
    "a = A((CALL,) * 5)\n",
    "b = B((CALL,) * 5)"
   ]
  },
  {
   "cell_type": "code",
   "execution_count": 347,
   "metadata": {
    "ExecuteTime": {
     "end_time": "2016-12-30T14:37:50.644479",
     "start_time": "2016-12-30T14:37:50.631120"
    }
   },
   "outputs": [],
   "source": [
    "def play_one_game(a, b):\n",
    "    adie = a.roll()\n",
    "    abet = a.bet(adie)\n",
    "    \n",
    "    bdie = b.roll()\n",
    "    bbet = b.bet(bdie)\n",
    "    \n",
    "    if abet == RAISE and bbet == FOLD:\n",
    "        # dice don't matter\n",
    "        a.money += 1\n",
    "        b.money -= 1\n",
    "    else:\n",
    "        # RAISE/FOLD is out, so we either CALL/NULL (1) or RAISE/CALL (2)\n",
    "        pot = 1 if abet == CALL else 2\n",
    "\n",
    "        if adie > bdie:\n",
    "            a.money += pot\n",
    "            b.money -= pot\n",
    "        elif adie < bdie:\n",
    "            a.money -= pot\n",
    "            b.money += pot\n",
    "\n",
    "def play_n_games(a, b, n):\n",
    "    for i in range(n):\n",
    "        play_one_game(a, b)"
   ]
  },
  {
   "cell_type": "code",
   "execution_count": 295,
   "metadata": {
    "ExecuteTime": {
     "end_time": "2016-12-30T13:48:30.378317",
     "start_time": "2016-12-30T13:48:30.373302"
    }
   },
   "outputs": [
    {
     "name": "stdout",
     "output_type": "stream",
     "text": [
      "5\n",
      "-5\n"
     ]
    }
   ],
   "source": [
    "play_one_game(a, b)\n",
    "print(a.money)\n",
    "print(b.money)"
   ]
  },
  {
   "cell_type": "code",
   "execution_count": 312,
   "metadata": {
    "ExecuteTime": {
     "end_time": "2016-12-30T14:10:47.328193",
     "start_time": "2016-12-30T14:10:47.321737"
    },
    "collapsed": true
   },
   "outputs": [],
   "source": [
    "def strat_to_key(strat, stratType='A'):\n",
    "    if stratType == 'A':\n",
    "        return ''.join([('C' if x == CALL else 'R') for x in strat])\n",
    "    elif stratType == 'B':\n",
    "        return ''.join([('C' if x == CALL else 'F') for x in strat])"
   ]
  },
  {
   "cell_type": "code",
   "execution_count": 339,
   "metadata": {
    "ExecuteTime": {
     "end_time": "2016-12-30T14:29:36.196459",
     "start_time": "2016-12-30T14:22:34.198837"
    }
   },
   "outputs": [
    {
     "name": "stdout",
     "output_type": "stream",
     "text": [
      "\n"
     ]
    }
   ],
   "source": [
    "nSimulations = 100\n",
    "gamesPerSimulation = 1000\n",
    "numStratA = len(list(A.strategies()))\n",
    "numStratB = len(list(B.strategies()))\n",
    "\n",
    "stratResults = []\n",
    "for astrat in tqdm.tqdm_notebook(A.strategies(), desc='A strategies', total=numStratA):\n",
    "    a = A(astrat)\n",
    "    akey = strat_to_key(astrat, stratType='A')\n",
    "    for bstrat in tqdm.tqdm_notebook(B.strategies(), desc='B strategies', total=numStratB, leave=False):\n",
    "        b = B(bstrat)\n",
    "        bkey = strat_to_key(bstrat, stratType='B')\n",
    "        for i in range(nSimulations):\n",
    "            # reset to start simulation\n",
    "            a.money = 0\n",
    "            b.money = 0\n",
    "            play_n_games(a, b, gamesPerSimulation)\n",
    "            gameresults.append(a.money)\n",
    "            stratResults.append({\n",
    "                'akey': akey,\n",
    "                'bkey': bkey,\n",
    "                'game': i,\n",
    "                'a_money': a.money\n",
    "            })\n",
    "\n",
    "stratResults = pd.DataFrame(stratResults)"
   ]
  },
  {
   "cell_type": "code",
   "execution_count": 340,
   "metadata": {
    "ExecuteTime": {
     "end_time": "2016-12-30T14:29:36.210673",
     "start_time": "2016-12-30T14:29:36.199159"
    }
   },
   "outputs": [
    {
     "data": {
      "text/html": [
       "<div>\n",
       "<table border=\"1\" class=\"dataframe\">\n",
       "  <thead>\n",
       "    <tr style=\"text-align: right;\">\n",
       "      <th></th>\n",
       "      <th>a_money</th>\n",
       "      <th>akey</th>\n",
       "      <th>bkey</th>\n",
       "      <th>game</th>\n",
       "    </tr>\n",
       "  </thead>\n",
       "  <tbody>\n",
       "    <tr>\n",
       "      <th>0</th>\n",
       "      <td>86</td>\n",
       "      <td>CCCCC</td>\n",
       "      <td>CCCCC</td>\n",
       "      <td>0</td>\n",
       "    </tr>\n",
       "    <tr>\n",
       "      <th>1</th>\n",
       "      <td>154</td>\n",
       "      <td>CCCCC</td>\n",
       "      <td>CCCCC</td>\n",
       "      <td>1</td>\n",
       "    </tr>\n",
       "    <tr>\n",
       "      <th>2</th>\n",
       "      <td>160</td>\n",
       "      <td>CCCCC</td>\n",
       "      <td>CCCCC</td>\n",
       "      <td>2</td>\n",
       "    </tr>\n",
       "    <tr>\n",
       "      <th>3</th>\n",
       "      <td>196</td>\n",
       "      <td>CCCCC</td>\n",
       "      <td>CCCCC</td>\n",
       "      <td>3</td>\n",
       "    </tr>\n",
       "    <tr>\n",
       "      <th>4</th>\n",
       "      <td>182</td>\n",
       "      <td>CCCCC</td>\n",
       "      <td>CCCCC</td>\n",
       "      <td>4</td>\n",
       "    </tr>\n",
       "  </tbody>\n",
       "</table>\n",
       "</div>"
      ],
      "text/plain": [
       "   a_money   akey   bkey  game\n",
       "0       86  CCCCC  CCCCC     0\n",
       "1      154  CCCCC  CCCCC     1\n",
       "2      160  CCCCC  CCCCC     2\n",
       "3      196  CCCCC  CCCCC     3\n",
       "4      182  CCCCC  CCCCC     4"
      ]
     },
     "execution_count": 340,
     "metadata": {},
     "output_type": "execute_result"
    }
   ],
   "source": [
    "stratResults.head()"
   ]
  },
  {
   "cell_type": "markdown",
   "metadata": {},
   "source": [
    "### biggest mismatch"
   ]
  },
  {
   "cell_type": "code",
   "execution_count": 341,
   "metadata": {
    "ExecuteTime": {
     "end_time": "2016-12-30T14:29:36.276646",
     "start_time": "2016-12-30T14:29:36.213200"
    }
   },
   "outputs": [
    {
     "data": {
      "text/html": [
       "<div>\n",
       "<table border=\"1\" class=\"dataframe\">\n",
       "  <thead>\n",
       "    <tr style=\"text-align: right;\">\n",
       "      <th></th>\n",
       "      <th></th>\n",
       "      <th>sum</th>\n",
       "      <th>mean</th>\n",
       "      <th>std</th>\n",
       "    </tr>\n",
       "    <tr>\n",
       "      <th>akey</th>\n",
       "      <th>bkey</th>\n",
       "      <th></th>\n",
       "      <th></th>\n",
       "      <th></th>\n",
       "    </tr>\n",
       "  </thead>\n",
       "  <tbody>\n",
       "    <tr>\n",
       "      <th rowspan=\"2\" valign=\"top\">RRRRR</th>\n",
       "      <th>CFFFF</th>\n",
       "      <td>67051</td>\n",
       "      <td>670.51</td>\n",
       "      <td>37.641717</td>\n",
       "    </tr>\n",
       "    <tr>\n",
       "      <th>CCFFF</th>\n",
       "      <td>66636</td>\n",
       "      <td>666.36</td>\n",
       "      <td>40.132739</td>\n",
       "    </tr>\n",
       "    <tr>\n",
       "      <th rowspan=\"2\" valign=\"top\">RRRRC</th>\n",
       "      <th>CFFFF</th>\n",
       "      <td>63989</td>\n",
       "      <td>639.89</td>\n",
       "      <td>29.260203</td>\n",
       "    </tr>\n",
       "    <tr>\n",
       "      <th>CCFFF</th>\n",
       "      <td>61647</td>\n",
       "      <td>616.47</td>\n",
       "      <td>38.117695</td>\n",
       "    </tr>\n",
       "    <tr>\n",
       "      <th>RRRCR</th>\n",
       "      <th>CFFFF</th>\n",
       "      <td>58205</td>\n",
       "      <td>582.05</td>\n",
       "      <td>39.444213</td>\n",
       "    </tr>\n",
       "  </tbody>\n",
       "</table>\n",
       "</div>"
      ],
      "text/plain": [
       "               sum    mean        std\n",
       "akey  bkey                           \n",
       "RRRRR CFFFF  67051  670.51  37.641717\n",
       "      CCFFF  66636  666.36  40.132739\n",
       "RRRRC CFFFF  63989  639.89  29.260203\n",
       "      CCFFF  61647  616.47  38.117695\n",
       "RRRCR CFFFF  58205  582.05  39.444213"
      ]
     },
     "execution_count": 341,
     "metadata": {},
     "output_type": "execute_result"
    }
   ],
   "source": [
    "abmoney = stratResults.groupby(['akey', 'bkey']).a_money.agg([sp.sum, sp.mean, sp.std])\n",
    "abmoney = abmoney.sort_values(by=['mean', 'std'], ascending=[False, True])\n",
    "abmoney.head()"
   ]
  },
  {
   "cell_type": "markdown",
   "metadata": {},
   "source": [
    "### best A strategy, regardless"
   ]
  },
  {
   "cell_type": "code",
   "execution_count": 342,
   "metadata": {
    "ExecuteTime": {
     "end_time": "2016-12-30T14:29:36.313143",
     "start_time": "2016-12-30T14:29:36.279354"
    }
   },
   "outputs": [
    {
     "data": {
      "text/html": [
       "<div>\n",
       "<table border=\"1\" class=\"dataframe\">\n",
       "  <thead>\n",
       "    <tr style=\"text-align: right;\">\n",
       "      <th></th>\n",
       "      <th>sum</th>\n",
       "      <th>mean</th>\n",
       "      <th>std</th>\n",
       "    </tr>\n",
       "    <tr>\n",
       "      <th>akey</th>\n",
       "      <th></th>\n",
       "      <th></th>\n",
       "      <th></th>\n",
       "    </tr>\n",
       "  </thead>\n",
       "  <tbody>\n",
       "    <tr>\n",
       "      <th>RRRRR</th>\n",
       "      <td>889586</td>\n",
       "      <td>277.995625</td>\n",
       "      <td>221.460519</td>\n",
       "    </tr>\n",
       "    <tr>\n",
       "      <th>RRRRC</th>\n",
       "      <td>760164</td>\n",
       "      <td>237.551250</td>\n",
       "      <td>218.314645</td>\n",
       "    </tr>\n",
       "    <tr>\n",
       "      <th>CRRRR</th>\n",
       "      <td>756866</td>\n",
       "      <td>236.520625</td>\n",
       "      <td>171.722022</td>\n",
       "    </tr>\n",
       "    <tr>\n",
       "      <th>RCRRR</th>\n",
       "      <td>755841</td>\n",
       "      <td>236.200312</td>\n",
       "      <td>157.001776</td>\n",
       "    </tr>\n",
       "    <tr>\n",
       "      <th>RRRCR</th>\n",
       "      <td>755459</td>\n",
       "      <td>236.080938</td>\n",
       "      <td>183.135565</td>\n",
       "    </tr>\n",
       "  </tbody>\n",
       "</table>\n",
       "</div>"
      ],
      "text/plain": [
       "          sum        mean         std\n",
       "akey                                 \n",
       "RRRRR  889586  277.995625  221.460519\n",
       "RRRRC  760164  237.551250  218.314645\n",
       "CRRRR  756866  236.520625  171.722022\n",
       "RCRRR  755841  236.200312  157.001776\n",
       "RRRCR  755459  236.080938  183.135565"
      ]
     },
     "execution_count": 342,
     "metadata": {},
     "output_type": "execute_result"
    }
   ],
   "source": [
    "amoney = stratResults.groupby('akey').a_money.agg([sp.sum, sp.mean, sp.std])\n",
    "amoney = amoney.sort_values(by=['mean', 'std'], ascending=[False, True])\n",
    "amoney.head()"
   ]
  },
  {
   "cell_type": "markdown",
   "metadata": {},
   "source": [
    "### best B strategy, regardless"
   ]
  },
  {
   "cell_type": "code",
   "execution_count": 343,
   "metadata": {
    "ExecuteTime": {
     "end_time": "2016-12-30T14:29:36.358771",
     "start_time": "2016-12-30T14:29:36.317050"
    }
   },
   "outputs": [
    {
     "data": {
      "text/html": [
       "<div>\n",
       "<table border=\"1\" class=\"dataframe\">\n",
       "  <thead>\n",
       "    <tr style=\"text-align: right;\">\n",
       "      <th></th>\n",
       "      <th>sum</th>\n",
       "      <th>mean</th>\n",
       "      <th>std</th>\n",
       "    </tr>\n",
       "    <tr>\n",
       "      <th>bkey</th>\n",
       "      <th></th>\n",
       "      <th></th>\n",
       "      <th></th>\n",
       "    </tr>\n",
       "  </thead>\n",
       "  <tbody>\n",
       "    <tr>\n",
       "      <th>FFCCC</th>\n",
       "      <td>-43510</td>\n",
       "      <td>-13.596875</td>\n",
       "      <td>77.510576</td>\n",
       "    </tr>\n",
       "    <tr>\n",
       "      <th>FCCCC</th>\n",
       "      <td>6111</td>\n",
       "      <td>1.909687</td>\n",
       "      <td>98.834681</td>\n",
       "    </tr>\n",
       "    <tr>\n",
       "      <th>FFFCC</th>\n",
       "      <td>87116</td>\n",
       "      <td>27.223750</td>\n",
       "      <td>62.804354</td>\n",
       "    </tr>\n",
       "    <tr>\n",
       "      <th>FCFCC</th>\n",
       "      <td>134300</td>\n",
       "      <td>41.968750</td>\n",
       "      <td>52.208364</td>\n",
       "    </tr>\n",
       "    <tr>\n",
       "      <th>CFCCC</th>\n",
       "      <td>180826</td>\n",
       "      <td>56.508125</td>\n",
       "      <td>71.571656</td>\n",
       "    </tr>\n",
       "  </tbody>\n",
       "</table>\n",
       "</div>"
      ],
      "text/plain": [
       "          sum       mean        std\n",
       "bkey                               \n",
       "FFCCC  -43510 -13.596875  77.510576\n",
       "FCCCC    6111   1.909687  98.834681\n",
       "FFFCC   87116  27.223750  62.804354\n",
       "FCFCC  134300  41.968750  52.208364\n",
       "CFCCC  180826  56.508125  71.571656"
      ]
     },
     "execution_count": 343,
     "metadata": {},
     "output_type": "execute_result"
    }
   ],
   "source": [
    "bmoney = stratResults.groupby('bkey').a_money.agg([sp.sum, sp.mean, sp.std])\n",
    "bmoney = bmoney.sort_values(by=['mean', 'std'])\n",
    "bmoney.head()"
   ]
  },
  {
   "cell_type": "markdown",
   "metadata": {},
   "source": [
    "### best B strategy given optimal A (aka fair handicap)"
   ]
  },
  {
   "cell_type": "code",
   "execution_count": 344,
   "metadata": {
    "ExecuteTime": {
     "end_time": "2016-12-30T14:29:36.403867",
     "start_time": "2016-12-30T14:29:36.361127"
    }
   },
   "outputs": [
    {
     "data": {
      "text/html": [
       "<div>\n",
       "<table border=\"1\" class=\"dataframe\">\n",
       "  <thead>\n",
       "    <tr style=\"text-align: right;\">\n",
       "      <th></th>\n",
       "      <th>sum</th>\n",
       "      <th>mean</th>\n",
       "      <th>std</th>\n",
       "    </tr>\n",
       "    <tr>\n",
       "      <th>bkey</th>\n",
       "      <th></th>\n",
       "      <th></th>\n",
       "      <th></th>\n",
       "    </tr>\n",
       "  </thead>\n",
       "  <tbody>\n",
       "    <tr>\n",
       "      <th>FCCCC</th>\n",
       "      <td>-11984</td>\n",
       "      <td>-119.84</td>\n",
       "      <td>51.671597</td>\n",
       "    </tr>\n",
       "    <tr>\n",
       "      <th>FFCCC</th>\n",
       "      <td>-10989</td>\n",
       "      <td>-109.89</td>\n",
       "      <td>48.465732</td>\n",
       "    </tr>\n",
       "    <tr>\n",
       "      <th>CFCCC</th>\n",
       "      <td>-588</td>\n",
       "      <td>-5.88</td>\n",
       "      <td>55.203074</td>\n",
       "    </tr>\n",
       "    <tr>\n",
       "      <th>FCFCC</th>\n",
       "      <td>-525</td>\n",
       "      <td>-5.25</td>\n",
       "      <td>55.156595</td>\n",
       "    </tr>\n",
       "    <tr>\n",
       "      <th>FFFCC</th>\n",
       "      <td>-6</td>\n",
       "      <td>-0.06</td>\n",
       "      <td>44.860462</td>\n",
       "    </tr>\n",
       "  </tbody>\n",
       "</table>\n",
       "</div>"
      ],
      "text/plain": [
       "         sum    mean        std\n",
       "bkey                           \n",
       "FCCCC -11984 -119.84  51.671597\n",
       "FFCCC -10989 -109.89  48.465732\n",
       "CFCCC   -588   -5.88  55.203074\n",
       "FCFCC   -525   -5.25  55.156595\n",
       "FFFCC     -6   -0.06  44.860462"
      ]
     },
     "execution_count": 344,
     "metadata": {},
     "output_type": "execute_result"
    }
   ],
   "source": [
    "aOptbmoney = stratResults[stratResults.akey == amoney.index[0]].groupby('bkey').a_money.agg([sp.sum, sp.mean, sp.std])\n",
    "aOptbmoney = aOptbmoney.sort_values(by=['mean', 'std'])\n",
    "aOptbmoney.head()"
   ]
  },
  {
   "cell_type": "markdown",
   "metadata": {},
   "source": [
    "## solving analytically"
   ]
  },
  {
   "cell_type": "markdown",
   "metadata": {},
   "source": [
    "the payout functions for $A$ are\n",
    "\n",
    "$$\n",
    "f\n",
    "$$\n"
   ]
  },
  {
   "cell_type": "code",
   "execution_count": null,
   "metadata": {
    "collapsed": true
   },
   "outputs": [],
   "source": []
  }
 ],
 "metadata": {
  "anaconda-cloud": {},
  "kernelspec": {
   "display_name": "Python 3",
   "language": "python",
   "name": "python3"
  },
  "language_info": {
   "codemirror_mode": {
    "name": "ipython",
    "version": 3
   },
   "file_extension": ".py",
   "mimetype": "text/x-python",
   "name": "python",
   "nbconvert_exporter": "python",
   "pygments_lexer": "ipython3",
   "version": "3.6.2"
  },
  "toc": {
   "toc_cell": false,
   "toc_number_sections": true,
   "toc_threshold": 6,
   "toc_window_display": false
  },
  "widgets": {
   "state": {
    "0012e35f4e7e40e4b1caba73e449b77d": {
     "views": [
      {
       "cell_index": 7
      }
     ]
    },
    "01ee39c3c7a645aa8688ecb0897c1b4c": {
     "views": [
      {
       "cell_index": 13
      }
     ]
    },
    "0210ee135a0b45ed96f8cbc16c796e72": {
     "views": [
      {
       "cell_index": 13
      }
     ]
    },
    "025a224cdad541349db7be244a1fe7f8": {
     "views": [
      {
       "cell_index": 14
      }
     ]
    },
    "02daef80f0634ec7af8de852d62a88ee": {
     "views": [
      {
       "cell_index": 7
      }
     ]
    },
    "030f81c6115340789f69a7cb1161c760": {
     "views": [
      {
       "cell_index": 13
      }
     ]
    },
    "03c6a4883e71446ea7b9e284374f2a04": {
     "views": [
      {
       "cell_index": 7
      }
     ]
    },
    "0431edeeccb548d69cec1b48484e0e89": {
     "views": [
      {
       "cell_index": 7
      }
     ]
    },
    "0453ba8b1ec34345b6ea5875e696eef0": {
     "views": [
      {
       "cell_index": 7
      }
     ]
    },
    "04780b1f935f4213980f150bba0eca1e": {
     "views": [
      {
       "cell_index": 14
      }
     ]
    },
    "04b2a74d009646adbd7cceda83bfc0b1": {
     "views": [
      {
       "cell_index": 7
      }
     ]
    },
    "073276dbfa074396a754f818ee769482": {
     "views": [
      {
       "cell_index": 13
      }
     ]
    },
    "075164d66b7a4f329f5dbe4a61225ded": {
     "views": [
      {
       "cell_index": 13
      }
     ]
    },
    "07e8478b209046778d4eb0830d7a6e72": {
     "views": [
      {
       "cell_index": 14
      }
     ]
    },
    "07eb5d3118e2400a9746f2e6b6e40745": {
     "views": [
      {
       "cell_index": 7
      }
     ]
    },
    "0a34e795a0234d8bb9532d3eea6bd5a6": {
     "views": [
      {
       "cell_index": 7
      }
     ]
    },
    "0a3e9b66738b4c8dbd839ff0a9603fdd": {
     "views": [
      {
       "cell_index": 13
      }
     ]
    },
    "0b7a847d7ac240b085bdcc80012d39fe": {
     "views": [
      {
       "cell_index": 13
      }
     ]
    },
    "0b912400cd484d909bb13c005ef409b5": {
     "views": [
      {
       "cell_index": 7
      }
     ]
    },
    "0bbcb3ff6a1f45199d2ce26a57076fc4": {
     "views": [
      {
       "cell_index": 7
      }
     ]
    },
    "0bd61354c8f94522bdb3c7c73176b88c": {
     "views": [
      {
       "cell_index": 7
      }
     ]
    },
    "0c44d771490f4726ac1b70ac2ef836ee": {
     "views": [
      {
       "cell_index": 13
      }
     ]
    },
    "0c732549cde8426db5d5f7149d8947de": {
     "views": [
      {
       "cell_index": 7
      }
     ]
    },
    "0d12263c52b9485ea9bacfbb29ff8c8f": {
     "views": [
      {
       "cell_index": 7
      }
     ]
    },
    "0dd3736edf204363af28997dfe4af1a4": {
     "views": [
      {
       "cell_index": 13
      }
     ]
    },
    "0dd4d7f2016f4e5b9e85eda604a2950a": {
     "views": [
      {
       "cell_index": 13
      }
     ]
    },
    "0df14c061019485d91b82248932a9483": {
     "views": [
      {
       "cell_index": 7
      }
     ]
    },
    "0ea3f4fa701644ba879d405293fcc98a": {
     "views": [
      {
       "cell_index": 7
      }
     ]
    },
    "0fd05be4e2434c07ac6471f9c994f6fa": {
     "views": [
      {
       "cell_index": 7
      }
     ]
    },
    "10de948d978d48558d147d538216d306": {
     "views": [
      {
       "cell_index": 13
      }
     ]
    },
    "10e8766c6f7546a696eb44bc3f5316f4": {
     "views": [
      {
       "cell_index": 7
      }
     ]
    },
    "122f6cca6cc84324b2ecd858859b1ebf": {
     "views": [
      {
       "cell_index": 14
      }
     ]
    },
    "12cd960afc484c2cbe0535411d6d399e": {
     "views": [
      {
       "cell_index": 14
      }
     ]
    },
    "13baeca809714a479a3f8794807724e9": {
     "views": [
      {
       "cell_index": 7
      }
     ]
    },
    "15a2bb59676b42fb92580f440e6572c4": {
     "views": [
      {
       "cell_index": 14
      }
     ]
    },
    "15a48668a90e4c7a8718ba0c0e1dd72c": {
     "views": [
      {
       "cell_index": 7
      }
     ]
    },
    "1605a7e178e240bda6ec4fab1de8b803": {
     "views": [
      {
       "cell_index": 7
      }
     ]
    },
    "1647f93e80454337b307306fe0609fa2": {
     "views": [
      {
       "cell_index": 7
      }
     ]
    },
    "16a48b5d64974f29b2b22cce6e7b417e": {
     "views": [
      {
       "cell_index": 7
      }
     ]
    },
    "16bf3128bf8b4955b4f5376f23b46a8a": {
     "views": [
      {
       "cell_index": 13
      }
     ]
    },
    "176ed27115bc4e4898871f148f61f7d0": {
     "views": [
      {
       "cell_index": 7
      }
     ]
    },
    "17bee89a3cda47ff8b3fca2c151f63ec": {
     "views": [
      {
       "cell_index": 13
      }
     ]
    },
    "17c01583383a41f599317704ec0d09ce": {
     "views": [
      {
       "cell_index": 7
      }
     ]
    },
    "183380a5596048b0a8c7325acaceaa2d": {
     "views": [
      {
       "cell_index": 14
      }
     ]
    },
    "19b292023b474a0ab0284c90fb255c75": {
     "views": [
      {
       "cell_index": 14
      }
     ]
    },
    "1a00bfd5be694813ab61d9fd2283a101": {
     "views": [
      {
       "cell_index": 7
      }
     ]
    },
    "1a076d674a7b43e3972abfb596e76f85": {
     "views": [
      {
       "cell_index": 7
      }
     ]
    },
    "1be514379a724a338b0f55b87c3821ad": {
     "views": [
      {
       "cell_index": 14
      }
     ]
    },
    "1c17a38899d64ec9a6ab467956315e19": {
     "views": [
      {
       "cell_index": 7
      }
     ]
    },
    "1c8e26c3de8f437fb43c49358732f127": {
     "views": [
      {
       "cell_index": 14
      }
     ]
    },
    "1ceec256db2d4306830ff17d22764fb0": {
     "views": [
      {
       "cell_index": 14
      }
     ]
    },
    "1d89f42ac6c34e1d8e2284f30e21028b": {
     "views": [
      {
       "cell_index": 7
      }
     ]
    },
    "1dca8bed87564d21bd05c904194ccb9b": {
     "views": [
      {
       "cell_index": 7
      }
     ]
    },
    "1e30e8a255414ae5b14ec765edebfc4c": {
     "views": [
      {
       "cell_index": 7
      }
     ]
    },
    "1e83fe46fafc42278961fecdde38ee2e": {
     "views": [
      {
       "cell_index": 14
      }
     ]
    },
    "1f0a14d144de4937ae1565ffad2f1007": {
     "views": [
      {
       "cell_index": 7
      }
     ]
    },
    "229b7b6d53bc4e749d4558b3171cb3a3": {
     "views": [
      {
       "cell_index": 7
      }
     ]
    },
    "22a27981652540018b43beaf3bbc80af": {
     "views": [
      {
       "cell_index": 7
      }
     ]
    },
    "22d31f91c6aa43ef8e0922bbb4526866": {
     "views": [
      {
       "cell_index": 14
      }
     ]
    },
    "23272006a1d14d559d78d962065be40f": {
     "views": [
      {
       "cell_index": 13
      }
     ]
    },
    "25d7a18cac8941d4a12b9a0d7afa3bd7": {
     "views": [
      {
       "cell_index": 7
      }
     ]
    },
    "277d159e2d56448e9b3b2ad974f40f67": {
     "views": [
      {
       "cell_index": 14
      }
     ]
    },
    "278a1c8f51f54d34847de5cdd3e094c8": {
     "views": [
      {
       "cell_index": 7
      }
     ]
    },
    "280749adffa74afb84884a0c710941bb": {
     "views": [
      {
       "cell_index": 7
      }
     ]
    },
    "283db2f674d648d0813b4c858e0eea0b": {
     "views": [
      {
       "cell_index": 7
      }
     ]
    },
    "2869e5f9418d48e08f5a266a63334266": {
     "views": [
      {
       "cell_index": 14
      }
     ]
    },
    "28b9d033ff354c70b41b63b71cfdfe93": {
     "views": [
      {
       "cell_index": 14
      }
     ]
    },
    "28f88062c8e74525a1f73a8972bb9eaa": {
     "views": [
      {
       "cell_index": 7
      }
     ]
    },
    "292e016c4fe145e18ce1b5eac0c93eed": {
     "views": [
      {
       "cell_index": 13
      }
     ]
    },
    "29dce1069c9c4111877d8dcc7b4b336b": {
     "views": [
      {
       "cell_index": 7
      }
     ]
    },
    "2a683f639ca741f7847efc0954c4f823": {
     "views": [
      {
       "cell_index": 13
      }
     ]
    },
    "2ad953d11ee949d1a8b16e12947b5ffa": {
     "views": [
      {
       "cell_index": 7
      }
     ]
    },
    "2bdee373432a467f8038f53b6f2172d1": {
     "views": [
      {
       "cell_index": 13
      }
     ]
    },
    "2cffe23a8df74cd2986c76e39865c055": {
     "views": [
      {
       "cell_index": 7
      }
     ]
    },
    "2d6ca8ae708c4b388c2811bba573a714": {
     "views": [
      {
       "cell_index": 7
      }
     ]
    },
    "2ebeafd46442447093f2e9ac11a9bbc1": {
     "views": [
      {
       "cell_index": 13
      }
     ]
    },
    "2f101bbb2948446aa0e9cd799311a509": {
     "views": [
      {
       "cell_index": 14
      }
     ]
    },
    "31af2aa7007b4b7eb4fa6d9e6d026598": {
     "views": [
      {
       "cell_index": 14
      }
     ]
    },
    "32d78620a59c4e558012dde890b7885e": {
     "views": [
      {
       "cell_index": 7
      }
     ]
    },
    "333ab19242a8415d8e287fb6f8374df3": {
     "views": [
      {
       "cell_index": 14
      }
     ]
    },
    "33676ee8811e4b8083187092890b4088": {
     "views": [
      {
       "cell_index": 7
      }
     ]
    },
    "34506495cfec447d879109a5d0c80cce": {
     "views": [
      {
       "cell_index": 7
      }
     ]
    },
    "3589af672d424dea9fb627bda264d34e": {
     "views": [
      {
       "cell_index": 7
      }
     ]
    },
    "35caad61ae9a4d5590a28e7eae769a27": {
     "views": [
      {
       "cell_index": 13
      }
     ]
    },
    "3652fa2a952c479f8af621c8a4aa5c33": {
     "views": [
      {
       "cell_index": 14
      }
     ]
    },
    "3820dd2f1c774706bf1906addfe2f732": {
     "views": [
      {
       "cell_index": 14
      }
     ]
    },
    "3853dc49b55f4b2cb85526d4473d5add": {
     "views": [
      {
       "cell_index": 7
      }
     ]
    },
    "3858471d6ae04849a360451eb55fd005": {
     "views": [
      {
       "cell_index": 7
      }
     ]
    },
    "3909e585eacc4710b24750faddc7eee9": {
     "views": [
      {
       "cell_index": 7
      }
     ]
    },
    "3ad4f8ec4d8446909fe159c8d563dd33": {
     "views": [
      {
       "cell_index": 7
      }
     ]
    },
    "3b87501886ed44f0bd81607786825f58": {
     "views": [
      {
       "cell_index": 14
      }
     ]
    },
    "3bb1cd0be77c476982e95db3b0e193b8": {
     "views": [
      {
       "cell_index": 7
      }
     ]
    },
    "3c7dd28c417b4e4e9a174e7205225f91": {
     "views": [
      {
       "cell_index": 7
      }
     ]
    },
    "3d65e5bc05eb4f048484235c65de90d3": {
     "views": [
      {
       "cell_index": 14
      }
     ]
    },
    "3db053c1d3aa457c8e2b43e27c439eb4": {
     "views": [
      {
       "cell_index": 7
      }
     ]
    },
    "3e61e394803f4cd4880585221116e596": {
     "views": [
      {
       "cell_index": 7
      }
     ]
    },
    "3e7ca35dbb914768b3600237ad4c5de9": {
     "views": [
      {
       "cell_index": 7
      }
     ]
    },
    "3ed3e762dc12465e99792f6da47353db": {
     "views": [
      {
       "cell_index": 13
      }
     ]
    },
    "3ee0ce84cf8644568cefb13848388588": {
     "views": [
      {
       "cell_index": 7
      }
     ]
    },
    "4007b2250b754164b1eda9ba52b874f4": {
     "views": [
      {
       "cell_index": 13
      }
     ]
    },
    "401664573ca1424ebe856270ce2e340a": {
     "views": [
      {
       "cell_index": 7
      }
     ]
    },
    "43499175ab7941978b5f16267ee3cf84": {
     "views": [
      {
       "cell_index": 7
      }
     ]
    },
    "436cc844c65a42788bfdfb2a25c4628d": {
     "views": [
      {
       "cell_index": 7
      }
     ]
    },
    "43b9d237a7f24b1ea882ec4d44682e89": {
     "views": [
      {
       "cell_index": 13
      }
     ]
    },
    "43bc6705916c4b76b0cafdcf64110cbb": {
     "views": [
      {
       "cell_index": 7
      }
     ]
    },
    "43dc17d1072944c08461c72db0f547a5": {
     "views": [
      {
       "cell_index": 7
      }
     ]
    },
    "4417583524974d69a734839df3b92e24": {
     "views": [
      {
       "cell_index": 13
      }
     ]
    },
    "4475033fc9e749ca8f6dd829fc47d034": {
     "views": [
      {
       "cell_index": 7
      }
     ]
    },
    "44a6536b00aa41d88f8430112a6317f2": {
     "views": [
      {
       "cell_index": 7
      }
     ]
    },
    "45facab6ff7c4f699bb3fb81139da039": {
     "views": [
      {
       "cell_index": 14
      }
     ]
    },
    "4608490610f04c98b8e1b6e609cb5c86": {
     "views": [
      {
       "cell_index": 13
      }
     ]
    },
    "463daf0936ef432a840bab15f1bf67ac": {
     "views": [
      {
       "cell_index": 7
      }
     ]
    },
    "4763daa606974d1590c34535bad20e9c": {
     "views": [
      {
       "cell_index": 13
      }
     ]
    },
    "4830a5542fc2436fa325b96833eadab2": {
     "views": [
      {
       "cell_index": 7
      }
     ]
    },
    "48367427950c44869647bf8a120d7e4e": {
     "views": [
      {
       "cell_index": 7
      }
     ]
    },
    "4897ca31051d429482c38a16dda7e714": {
     "views": [
      {
       "cell_index": 14
      }
     ]
    },
    "4a726d2f812d4cd7bb427ba03f88b694": {
     "views": [
      {
       "cell_index": 7
      }
     ]
    },
    "4af583e8c0ed46fe8879bd2a9bed918d": {
     "views": [
      {
       "cell_index": 7
      }
     ]
    },
    "4b90fab041494124b9d83d3719e8b3f4": {
     "views": [
      {
       "cell_index": 7
      }
     ]
    },
    "4bd4703337394de4b96e58858dd69eb1": {
     "views": [
      {
       "cell_index": 7
      }
     ]
    },
    "4bdc068b22164ac1b596cb9dbeae2480": {
     "views": [
      {
       "cell_index": 7
      }
     ]
    },
    "4d03c5c2c1b7427785c5aeea49d3c52d": {
     "views": [
      {
       "cell_index": 7
      }
     ]
    },
    "4f0c6392ca82473f95f0cfeefb127443": {
     "views": [
      {
       "cell_index": 14
      }
     ]
    },
    "4f0d9682a9d943c6af8f989a6cbaebb7": {
     "views": [
      {
       "cell_index": 7
      }
     ]
    },
    "4f972f57103b4a7bb0d147e4ffda4f48": {
     "views": [
      {
       "cell_index": 13
      }
     ]
    },
    "4f9c6244f6a74ec88d059832de32dc85": {
     "views": [
      {
       "cell_index": 7
      }
     ]
    },
    "5017b5663d644c8bbd6a82605a072efc": {
     "views": [
      {
       "cell_index": 7
      }
     ]
    },
    "50a441dd27374ab5acf2981532d8ddae": {
     "views": [
      {
       "cell_index": 14
      }
     ]
    },
    "50c37e659e794c3281adcb65e7baae9d": {
     "views": [
      {
       "cell_index": 13
      }
     ]
    },
    "51328ac793124d3b9e76b273d8fa933f": {
     "views": [
      {
       "cell_index": 7
      }
     ]
    },
    "5151d4c505c34732ab5a4698de250a97": {
     "views": [
      {
       "cell_index": 7
      }
     ]
    },
    "51825197495b4cac82d0a568d1b76b3e": {
     "views": [
      {
       "cell_index": 13
      }
     ]
    },
    "51afb17aa43d4176ac381073c2a98110": {
     "views": [
      {
       "cell_index": 7
      }
     ]
    },
    "521ce1c96c1f48029d17d9eb8e20f636": {
     "views": [
      {
       "cell_index": 7
      }
     ]
    },
    "525eddd54b5b4628894c5c73edb491f5": {
     "views": [
      {
       "cell_index": 7
      }
     ]
    },
    "52f13578ad4549aca62d7cfa7b974577": {
     "views": [
      {
       "cell_index": 7
      }
     ]
    },
    "531d0195940e4969963fa0450c4e02d0": {
     "views": [
      {
       "cell_index": 7
      }
     ]
    },
    "53f66406673f4ced85a1b2561cb861d6": {
     "views": [
      {
       "cell_index": 7
      }
     ]
    },
    "547da1937c38443682680e44a561cb20": {
     "views": [
      {
       "cell_index": 7
      }
     ]
    },
    "54b3f262866344ce86c686484f9bea6a": {
     "views": [
      {
       "cell_index": 13
      }
     ]
    },
    "54e31b8b3b334228aa241f33fad02065": {
     "views": [
      {
       "cell_index": 7
      }
     ]
    },
    "5729a0ae9547430bb206fe8b0922d885": {
     "views": [
      {
       "cell_index": 7
      }
     ]
    },
    "5818b0a025d940de94da8711ec35a3d2": {
     "views": [
      {
       "cell_index": 13
      }
     ]
    },
    "596b1368742f4820a84fd12c5629a500": {
     "views": [
      {
       "cell_index": 14
      }
     ]
    },
    "5c2065d5287344c6b184af753fb50b35": {
     "views": [
      {
       "cell_index": 7
      }
     ]
    },
    "5c224e66b6504676b541a180ef96e0af": {
     "views": [
      {
       "cell_index": 14
      }
     ]
    },
    "5c67eaa337e2468f8be20c1169983a43": {
     "views": [
      {
       "cell_index": 7
      }
     ]
    },
    "5f170076c80c46f89899f3adcd2914c9": {
     "views": [
      {
       "cell_index": 7
      }
     ]
    },
    "604f20984c5940108ab030079fe82547": {
     "views": [
      {
       "cell_index": 13
      }
     ]
    },
    "61ab47ae98a54acfbafdbe97417705d8": {
     "views": [
      {
       "cell_index": 14
      }
     ]
    },
    "64af088c2dd64cd6b593b974db97241f": {
     "views": [
      {
       "cell_index": 7
      }
     ]
    },
    "661d85dab4cb4002bb247acd2d43dc2b": {
     "views": [
      {
       "cell_index": 7
      }
     ]
    },
    "667ceefd24604346bdec7bb41bb31df8": {
     "views": [
      {
       "cell_index": 7
      }
     ]
    },
    "6715c42a72f84094ac5e1b81cec2529b": {
     "views": [
      {
       "cell_index": 13
      }
     ]
    },
    "67f56cd316d94ac9bed1051d150d7407": {
     "views": [
      {
       "cell_index": 7
      }
     ]
    },
    "6887716c6c634748be4caeb69e1ad6f3": {
     "views": [
      {
       "cell_index": 14
      }
     ]
    },
    "68ca445dd80448dd9781ce75bbad601c": {
     "views": [
      {
       "cell_index": 13
      }
     ]
    },
    "6a48e5be97db49f9a6efac2d1b6992e1": {
     "views": [
      {
       "cell_index": 7
      }
     ]
    },
    "6a570f7dd5f24af7b8c2aefdd605f99e": {
     "views": [
      {
       "cell_index": 7
      }
     ]
    },
    "6b87e6d882d24895857fc793ba9524db": {
     "views": [
      {
       "cell_index": 7
      }
     ]
    },
    "6bcd8ea2b82841399c98c0b8d89356df": {
     "views": [
      {
       "cell_index": 7
      }
     ]
    },
    "6bd2cddd752f462a8ff744ea07e45d93": {
     "views": [
      {
       "cell_index": 7
      }
     ]
    },
    "6bd5e0e413504726a044d0c298e27d94": {
     "views": [
      {
       "cell_index": 7
      }
     ]
    },
    "6c07113c23cd4adca13449fa593c2d43": {
     "views": [
      {
       "cell_index": 14
      }
     ]
    },
    "6c18eea489ff435db375d932471f8649": {
     "views": [
      {
       "cell_index": 7
      }
     ]
    },
    "6e6fa41ec1134cb5a4cff1243a113879": {
     "views": [
      {
       "cell_index": 7
      }
     ]
    },
    "6f9955a78a384db1a65213c8c6b1f9eb": {
     "views": [
      {
       "cell_index": 7
      }
     ]
    },
    "7083313e2aaf4a1399eeb84d1e3e7d9c": {
     "views": [
      {
       "cell_index": 13
      }
     ]
    },
    "723d05a34e744ca7aabc81c1a76a5ae1": {
     "views": [
      {
       "cell_index": 7
      }
     ]
    },
    "735ce9d12f264b219691adfb1fb1e03a": {
     "views": [
      {
       "cell_index": 7
      }
     ]
    },
    "73746c8aa7ba4bf7acfd0c57335476fd": {
     "views": [
      {
       "cell_index": 14
      }
     ]
    },
    "7405a126612449cf8acfd1dc3a94c102": {
     "views": [
      {
       "cell_index": 7
      }
     ]
    },
    "744c0bb3b181400abcec014702efcc33": {
     "views": [
      {
       "cell_index": 14
      }
     ]
    },
    "74daf501d6b84337bb79823d329a1862": {
     "views": [
      {
       "cell_index": 7
      }
     ]
    },
    "75a0c7a2516a40d681efdcd2fe774877": {
     "views": [
      {
       "cell_index": 7
      }
     ]
    },
    "768ad61290534adca4635b5d3d5468c6": {
     "views": [
      {
       "cell_index": 14
      }
     ]
    },
    "76cf5ba69f6040c89b8e6671a5c9f215": {
     "views": [
      {
       "cell_index": 13
      }
     ]
    },
    "781bef660d094ef48fbaf4abcba7d58e": {
     "views": [
      {
       "cell_index": 7
      }
     ]
    },
    "78b2a77e7ade45d9bc0e8b7f8fb07c0d": {
     "views": [
      {
       "cell_index": 7
      }
     ]
    },
    "78b448da45a54d4b939ae7116715ff60": {
     "views": [
      {
       "cell_index": 14
      }
     ]
    },
    "79f881d61d3c4ecba6393eb7fc20f15e": {
     "views": [
      {
       "cell_index": 14
      }
     ]
    },
    "79ffde111bb647f6988f80c42e1621fb": {
     "views": [
      {
       "cell_index": 7
      }
     ]
    },
    "7a30aa49910b426596d413762e616345": {
     "views": [
      {
       "cell_index": 13
      }
     ]
    },
    "7aec2df5312e40deb919f26bc434498c": {
     "views": [
      {
       "cell_index": 13
      }
     ]
    },
    "7b0cfd96397e4b99b1c4b90481c215b2": {
     "views": [
      {
       "cell_index": 13
      }
     ]
    },
    "7be4160645c64d3db9e06f2fda1a45bb": {
     "views": [
      {
       "cell_index": 7
      }
     ]
    },
    "7bfc2c2cd7634f05aa5facc882a6a288": {
     "views": [
      {
       "cell_index": 13
      }
     ]
    },
    "7bffdf3784874ca7b74aa17bc072318c": {
     "views": [
      {
       "cell_index": 7
      }
     ]
    },
    "7c875efc1f5a477f8092e4ce6a56c956": {
     "views": [
      {
       "cell_index": 14
      }
     ]
    },
    "7d371a59b0c24572918a1ee3aeb6928a": {
     "views": [
      {
       "cell_index": 7
      }
     ]
    },
    "7d639d64a57f4343b9346564b1ebde2f": {
     "views": [
      {
       "cell_index": 7
      }
     ]
    },
    "7f3d94d47dfd4d7b950a0a8f7bab7789": {
     "views": [
      {
       "cell_index": 7
      }
     ]
    },
    "7f64f97dadb540e19125d4c242aa98a0": {
     "views": [
      {
       "cell_index": 14
      }
     ]
    },
    "7f74c43d2d144d59a4e86ea4280a428c": {
     "views": [
      {
       "cell_index": 7
      }
     ]
    },
    "819020a897ff4dbd9014b956bfb5316e": {
     "views": [
      {
       "cell_index": 7
      }
     ]
    },
    "826af1e45fdd493ebf879b0c6bae5299": {
     "views": [
      {
       "cell_index": 7
      }
     ]
    },
    "82d6794c82eb4e7584f5c95dc541c662": {
     "views": [
      {
       "cell_index": 7
      }
     ]
    },
    "82fbf52068e64b4fa38b3cdc6bc20830": {
     "views": [
      {
       "cell_index": 7
      }
     ]
    },
    "83a8a1dd736c4390a8fda92911ecb113": {
     "views": [
      {
       "cell_index": 7
      }
     ]
    },
    "845de021d24d45f9a51db187a901c48a": {
     "views": [
      {
       "cell_index": 7
      }
     ]
    },
    "8465cbb1feb1429c9604db14f2bd6927": {
     "views": [
      {
       "cell_index": 13
      }
     ]
    },
    "84cc168206544b4389d36da233ef8939": {
     "views": [
      {
       "cell_index": 14
      }
     ]
    },
    "85dfc5b250844abfb344b9641a35ca95": {
     "views": [
      {
       "cell_index": 7
      }
     ]
    },
    "860a2c111d2240e8bbfca78c0caeb3c1": {
     "views": [
      {
       "cell_index": 14
      }
     ]
    },
    "86ed59d666ab4b8c80266b2a5bf22a85": {
     "views": [
      {
       "cell_index": 7
      }
     ]
    },
    "86ef2b8c0fec4cc69bb63743272a9fdd": {
     "views": [
      {
       "cell_index": 7
      }
     ]
    },
    "879f207eba8846c88602d3ca50799f43": {
     "views": [
      {
       "cell_index": 13
      }
     ]
    },
    "8991bd10adff4715a52c01d3b3cc8406": {
     "views": [
      {
       "cell_index": 7
      }
     ]
    },
    "89a81d80b6b9478fa542c1beaf1e1be1": {
     "views": [
      {
       "cell_index": 13
      }
     ]
    },
    "8a83d614d3604664b5b932fc6b960adc": {
     "views": [
      {
       "cell_index": 7
      }
     ]
    },
    "8b96b39fb32144e6836f7ad23e3ef764": {
     "views": [
      {
       "cell_index": 7
      }
     ]
    },
    "8bab1290499d489a840feed6e73d15ef": {
     "views": [
      {
       "cell_index": 7
      }
     ]
    },
    "8c0292b9ad714deab3421ffb218c8432": {
     "views": [
      {
       "cell_index": 7
      }
     ]
    },
    "8c400355a1be47558e24eb4c016a5d42": {
     "views": [
      {
       "cell_index": 7
      }
     ]
    },
    "8e3aaaa1774f4bf1963559ea6dc3f4fa": {
     "views": [
      {
       "cell_index": 7
      }
     ]
    },
    "8e5d56db1958419aa5902c06385bca4d": {
     "views": [
      {
       "cell_index": 7
      }
     ]
    },
    "8eb50a465ac8423a85f1e07ba2ad2e95": {
     "views": [
      {
       "cell_index": 7
      }
     ]
    },
    "8ee3cb77b4f842028621fad071cfa677": {
     "views": [
      {
       "cell_index": 13
      }
     ]
    },
    "8f38e6a865ff4adfab776264ba6b35c5": {
     "views": [
      {
       "cell_index": 7
      }
     ]
    },
    "8fd9d8881fce42d3b91586076538318c": {
     "views": [
      {
       "cell_index": 7
      }
     ]
    },
    "90c91a41f62f44579cd84c93c4b86a04": {
     "views": [
      {
       "cell_index": 14
      }
     ]
    },
    "916f9f2f1137403492984a2c4350569e": {
     "views": [
      {
       "cell_index": 14
      }
     ]
    },
    "9344bc9f83a54a87aa477fce3f9c32ac": {
     "views": [
      {
       "cell_index": 7
      }
     ]
    },
    "946bfeb6b2074297ba136f591efa1ad2": {
     "views": [
      {
       "cell_index": 7
      }
     ]
    },
    "94f38849fdcc4ef3b5687a1885e598d2": {
     "views": [
      {
       "cell_index": 7
      }
     ]
    },
    "97e19dece2c54f22be93ab187ce37e4d": {
     "views": [
      {
       "cell_index": 13
      }
     ]
    },
    "990bb9d9aaf5411c85998c78df80bb92": {
     "views": [
      {
       "cell_index": 7
      }
     ]
    },
    "992caf9adb6347b39099b27c8e8a59df": {
     "views": [
      {
       "cell_index": 7
      }
     ]
    },
    "99862ccb3d294f7d873823e781cad484": {
     "views": [
      {
       "cell_index": 13
      }
     ]
    },
    "99a6e13fe40c427aaed23155d1d54b47": {
     "views": [
      {
       "cell_index": 7
      }
     ]
    },
    "99cb4ab3deaa4cea8a201401c7485c98": {
     "views": [
      {
       "cell_index": 7
      }
     ]
    },
    "99fc4f53453c454fb4bf6e818f992c9c": {
     "views": [
      {
       "cell_index": 7
      }
     ]
    },
    "9a84ef4d2e5f49eba38bab2b69692ee1": {
     "views": [
      {
       "cell_index": 7
      }
     ]
    },
    "9af606005c8743aa996dfe48dd724856": {
     "views": [
      {
       "cell_index": 7
      }
     ]
    },
    "9b8539ec672346758f21f66e3513db4f": {
     "views": [
      {
       "cell_index": 7
      }
     ]
    },
    "9b8c7dd1ef4b4c4f87201144b082f959": {
     "views": [
      {
       "cell_index": 7
      }
     ]
    },
    "9bf47852016e4be09708ae49648193ab": {
     "views": [
      {
       "cell_index": 7
      }
     ]
    },
    "9cf60ac126aa4182b951f4473e289332": {
     "views": [
      {
       "cell_index": 14
      }
     ]
    },
    "9d05cd20c23946359c520f2a82b48a79": {
     "views": [
      {
       "cell_index": 14
      }
     ]
    },
    "9d1c8726c78842c2b05a5e6053e76468": {
     "views": [
      {
       "cell_index": 7
      }
     ]
    },
    "9d49f96588544d318f37938a46a48da8": {
     "views": [
      {
       "cell_index": 14
      }
     ]
    },
    "9e76eb571c6540ccb36bfd347a3472dc": {
     "views": [
      {
       "cell_index": 7
      }
     ]
    },
    "9f472106a3984342a43ceafdd951bd25": {
     "views": [
      {
       "cell_index": 13
      }
     ]
    },
    "9fbf02a87869484ca533bc8ab2e4fbe4": {
     "views": [
      {
       "cell_index": 13
      }
     ]
    },
    "a001db8ce8444592acc266ab54624848": {
     "views": [
      {
       "cell_index": 7
      }
     ]
    },
    "a0a1b4d056c04021b1a282dec17e95bf": {
     "views": [
      {
       "cell_index": 7
      }
     ]
    },
    "a0fd107025494fa9b7a0c31fde7c626d": {
     "views": [
      {
       "cell_index": 7
      }
     ]
    },
    "a19a181b47ed42dc90c55f3ae034c324": {
     "views": [
      {
       "cell_index": 7
      }
     ]
    },
    "a1d0e6dc12c34c4fb9f4740932f09906": {
     "views": [
      {
       "cell_index": 13
      }
     ]
    },
    "a235a9ce55cf4534b1ace025b542d081": {
     "views": [
      {
       "cell_index": 7
      }
     ]
    },
    "a371bcfcbe894a2d9465787aa1d4c05a": {
     "views": [
      {
       "cell_index": 14
      }
     ]
    },
    "a37fec92a1004245a662b99c55bed766": {
     "views": [
      {
       "cell_index": 13
      }
     ]
    },
    "a48b42d712924a578f3e3e5cc88f5cb7": {
     "views": [
      {
       "cell_index": 7
      }
     ]
    },
    "a4936ab7252344b095b5b94b8ffb8792": {
     "views": [
      {
       "cell_index": 7
      }
     ]
    },
    "a556b893a97a45188461a6196aa79112": {
     "views": [
      {
       "cell_index": 7
      }
     ]
    },
    "a5c2f29cd6924b5285e49ffd6d5d7b0b": {
     "views": [
      {
       "cell_index": 14
      }
     ]
    },
    "a5c53ac6f2c54b6c89f1341b48ed845f": {
     "views": [
      {
       "cell_index": 7
      }
     ]
    },
    "a5c5aa842cf5431f9d04cd8ba5edf177": {
     "views": [
      {
       "cell_index": 7
      }
     ]
    },
    "a63643210c14446b8db1718355cfda83": {
     "views": [
      {
       "cell_index": 14
      }
     ]
    },
    "a64b85a6b55a45bc8ca4a2710b1366bc": {
     "views": [
      {
       "cell_index": 13
      }
     ]
    },
    "a6ef10f805de4dad84fd86c7ddbd3dec": {
     "views": [
      {
       "cell_index": 7
      }
     ]
    },
    "a733323b5b98432b88f8c36fd8ea14fe": {
     "views": [
      {
       "cell_index": 7
      }
     ]
    },
    "a7757f69c5bd43a489fd1aae94e0a51e": {
     "views": [
      {
       "cell_index": 7
      }
     ]
    },
    "a92ef30792844b198a986d4cb3e80268": {
     "views": [
      {
       "cell_index": 14
      }
     ]
    },
    "a97e860ef50e4cf58f96c0e634533b4d": {
     "views": [
      {
       "cell_index": 7
      }
     ]
    },
    "a9c73638a2f24d2b83a8dff847233174": {
     "views": [
      {
       "cell_index": 7
      }
     ]
    },
    "aa4b52fed4f54247b43453cee53302cd": {
     "views": [
      {
       "cell_index": 14
      }
     ]
    },
    "aa67d548554042e285050a892fc52a49": {
     "views": [
      {
       "cell_index": 13
      }
     ]
    },
    "ac7821d1bfcc4da9b603dd63906ce79a": {
     "views": [
      {
       "cell_index": 14
      }
     ]
    },
    "ac948b2860d44be5951b57d5418cac5b": {
     "views": [
      {
       "cell_index": 13
      }
     ]
    },
    "ac9cf66dc674453781559ad165d224de": {
     "views": [
      {
       "cell_index": 7
      }
     ]
    },
    "ad9dfa3214864b4d8dda35deff75419b": {
     "views": [
      {
       "cell_index": 7
      }
     ]
    },
    "ae447243f3e14b1db18477c5267e147b": {
     "views": [
      {
       "cell_index": 7
      }
     ]
    },
    "ae6578a522e0471090008ffef9fc60e9": {
     "views": [
      {
       "cell_index": 7
      }
     ]
    },
    "aef254c48bae491e8cdf97a36568cce2": {
     "views": [
      {
       "cell_index": 7
      }
     ]
    },
    "af00d6de5e9746a499f530242433585e": {
     "views": [
      {
       "cell_index": 7
      }
     ]
    },
    "af7185b9b12d433b9feda265c70b1313": {
     "views": [
      {
       "cell_index": 13
      }
     ]
    },
    "af86906cea514468a5a83c0753f8bdfe": {
     "views": [
      {
       "cell_index": 7
      }
     ]
    },
    "b22e0b92f7eb4b21b8762484581b3f6f": {
     "views": [
      {
       "cell_index": 14
      }
     ]
    },
    "b273995ab5f44e1797f392afe11954ca": {
     "views": [
      {
       "cell_index": 7
      }
     ]
    },
    "b2b18e4a4d7e4c15b83ee7f8ec6d4595": {
     "views": [
      {
       "cell_index": 7
      }
     ]
    },
    "b3541b2d028343ee84fce44ecda24225": {
     "views": [
      {
       "cell_index": 14
      }
     ]
    },
    "b543d5c716dc4a3c991301b5dca43a4b": {
     "views": [
      {
       "cell_index": 14
      }
     ]
    },
    "b5d99606864f489b8f5e88818deaef5b": {
     "views": [
      {
       "cell_index": 7
      }
     ]
    },
    "b665cd18e64547a5a89d851969c84780": {
     "views": [
      {
       "cell_index": 13
      }
     ]
    },
    "b766ab5825594dbc8278617374da774d": {
     "views": [
      {
       "cell_index": 7
      }
     ]
    },
    "b90ab9a1ea3749b1b0ddbc0f42bb4c45": {
     "views": [
      {
       "cell_index": 14
      }
     ]
    },
    "b95b0d81d43d4ccf8e7cd4690c554fa6": {
     "views": [
      {
       "cell_index": 13
      }
     ]
    },
    "b9dc795cda1744b88ca64f231f9eea39": {
     "views": [
      {
       "cell_index": 13
      }
     ]
    },
    "b9fa479dbaaf4e069d53993fdce2caf6": {
     "views": [
      {
       "cell_index": 7
      }
     ]
    },
    "ba37a6251be24a67a3ad9b7c572b5a8b": {
     "views": [
      {
       "cell_index": 7
      }
     ]
    },
    "bb5c712caafa4e529754f5aa285e4dd6": {
     "views": [
      {
       "cell_index": 7
      }
     ]
    },
    "bba12518eeef4d208c4ab14352be2861": {
     "views": [
      {
       "cell_index": 7
      }
     ]
    },
    "bc870c4780bd4b8cb9b67215c8e83184": {
     "views": [
      {
       "cell_index": 7
      }
     ]
    },
    "bd3306da48b249ce989f17398e7a8a9d": {
     "views": [
      {
       "cell_index": 7
      }
     ]
    },
    "c0e1e46e4aca44c5a0bea8d4b031dc4a": {
     "views": [
      {
       "cell_index": 7
      }
     ]
    },
    "c0f4535d84ea4228af27683a46023aa0": {
     "views": [
      {
       "cell_index": 13
      }
     ]
    },
    "c143c3b4865846178510f51c891bb746": {
     "views": [
      {
       "cell_index": 7
      }
     ]
    },
    "c1e970085ede4985ac9c6b6f92b42d6a": {
     "views": [
      {
       "cell_index": 7
      }
     ]
    },
    "c2409a17f8fd4fdd970eab77c313de46": {
     "views": [
      {
       "cell_index": 14
      }
     ]
    },
    "c3bdfd8cce0f44dfada32333ae93c0fa": {
     "views": [
      {
       "cell_index": 7
      }
     ]
    },
    "c4c48ec175214761b45b542140b05264": {
     "views": [
      {
       "cell_index": 7
      }
     ]
    },
    "c4ced47d58b24fa49b28d5f0c70ac69c": {
     "views": [
      {
       "cell_index": 7
      }
     ]
    },
    "c5226205e7214448bec3fc7a3ef1d134": {
     "views": [
      {
       "cell_index": 7
      }
     ]
    },
    "c5917ce7d0a2414b8db0706765261d4e": {
     "views": [
      {
       "cell_index": 13
      }
     ]
    },
    "c60a3120bc974b64a1e1255a7925a5e9": {
     "views": [
      {
       "cell_index": 14
      }
     ]
    },
    "c6646a7c033a4efba1ea922f9031058f": {
     "views": [
      {
       "cell_index": 14
      }
     ]
    },
    "c737fb68eb524588bf432a0a2fa09d7b": {
     "views": [
      {
       "cell_index": 14
      }
     ]
    },
    "c7d35ca282cc491b83d0a23f2f280fb8": {
     "views": [
      {
       "cell_index": 13
      }
     ]
    },
    "c8618f5281784afcb2909669cffd6817": {
     "views": [
      {
       "cell_index": 13
      }
     ]
    },
    "c866f549d5b34dc780b7be20c8ffd7c7": {
     "views": [
      {
       "cell_index": 7
      }
     ]
    },
    "c899484d9a7c4d709f1dc34276e9a8dc": {
     "views": [
      {
       "cell_index": 13
      }
     ]
    },
    "c957c567dc0149ac9157e8973753c5fa": {
     "views": [
      {
       "cell_index": 7
      }
     ]
    },
    "c9b7923389774cd59404dc8d299a5f2e": {
     "views": [
      {
       "cell_index": 7
      }
     ]
    },
    "c9d9993a20fd435d9fdf8532eccdd4a2": {
     "views": [
      {
       "cell_index": 7
      }
     ]
    },
    "ca6d2e22a9504a33a7612f4808ddf0c2": {
     "views": [
      {
       "cell_index": 7
      }
     ]
    },
    "ca9524db0965432fab6137b599f3fa46": {
     "views": [
      {
       "cell_index": 7
      }
     ]
    },
    "ca9958ff093247e7b0c15cf6c25f3402": {
     "views": [
      {
       "cell_index": 7
      }
     ]
    },
    "cb47aeee49dc4e27a81c9cd1e7f9ac92": {
     "views": [
      {
       "cell_index": 7
      }
     ]
    },
    "cc8b13e2baa84a0288823ecf3c4e2afa": {
     "views": [
      {
       "cell_index": 13
      }
     ]
    },
    "ce192984e36e49f1a3fefea35896b28b": {
     "views": [
      {
       "cell_index": 7
      }
     ]
    },
    "cf0ce7e2a1a14dadb8309510f43f86cd": {
     "views": [
      {
       "cell_index": 14
      }
     ]
    },
    "cf14d1777158493c8a66eccd968f8dae": {
     "views": [
      {
       "cell_index": 7
      }
     ]
    },
    "cfa36016a6a1400489c20417c8954796": {
     "views": [
      {
       "cell_index": 13
      }
     ]
    },
    "cfcb3a3f08b54e23bc7d742ee99c1b84": {
     "views": [
      {
       "cell_index": 7
      }
     ]
    },
    "cfe5fbf63bf141479e5ed60e4dc0465d": {
     "views": [
      {
       "cell_index": 7
      }
     ]
    },
    "d0db6b3f928d4f3a865d367d98596bd5": {
     "views": [
      {
       "cell_index": 7
      }
     ]
    },
    "d1582708c5804b4f9a000666e56ffb8d": {
     "views": [
      {
       "cell_index": 7
      }
     ]
    },
    "d15ca3c2b21249efb36177ec08a3ecae": {
     "views": [
      {
       "cell_index": 13
      }
     ]
    },
    "d1bee5feda204745aa8477ef5b1d8187": {
     "views": [
      {
       "cell_index": 7
      }
     ]
    },
    "d1d8c22b9dc9426da89e22088de8a542": {
     "views": [
      {
       "cell_index": 7
      }
     ]
    },
    "d2e74bc7cd0c4069bd8a91216fcc81c6": {
     "views": [
      {
       "cell_index": 7
      }
     ]
    },
    "d35bcdcd4e0c49c788d164ea94416cff": {
     "views": [
      {
       "cell_index": 7
      }
     ]
    },
    "d3b0f428880a4d7aa61cf13c81853b22": {
     "views": [
      {
       "cell_index": 7
      }
     ]
    },
    "d4b2889dd39a47a8be23ce1b6501cd7d": {
     "views": [
      {
       "cell_index": 13
      }
     ]
    },
    "d500dfbee4074c9b95f1781e714afc3d": {
     "views": [
      {
       "cell_index": 14
      }
     ]
    },
    "d5573a8db14b47b8b510d61f18558d6c": {
     "views": [
      {
       "cell_index": 7
      }
     ]
    },
    "d69399c2ebe240c7906f3f4f657c4d95": {
     "views": [
      {
       "cell_index": 13
      }
     ]
    },
    "d7f5ee0ba90a461ab100608dc641c0ac": {
     "views": [
      {
       "cell_index": 7
      }
     ]
    },
    "d8746691a372487ba2638f8d1357ed32": {
     "views": [
      {
       "cell_index": 13
      }
     ]
    },
    "d8c8c99eee4b4155b5d97cfb8dcea53e": {
     "views": [
      {
       "cell_index": 13
      }
     ]
    },
    "d9ab41d299d44da1a9853f0b32fdfad3": {
     "views": [
      {
       "cell_index": 7
      }
     ]
    },
    "d9e70b6f0b964288803cdbf56fb4608d": {
     "views": [
      {
       "cell_index": 7
      }
     ]
    },
    "da930ad87ec74cb8909a23db1f8f7dfa": {
     "views": [
      {
       "cell_index": 14
      }
     ]
    },
    "dafcdb96c30a41e6aa1044b44a75c31c": {
     "views": [
      {
       "cell_index": 7
      }
     ]
    },
    "db6c9aa2b1ba422990d1d5ddfd5095b2": {
     "views": [
      {
       "cell_index": 7
      }
     ]
    },
    "db9b5ae029854087ba1bf71160f28c4c": {
     "views": [
      {
       "cell_index": 7
      }
     ]
    },
    "dc01cb57a431417a874094c138f0f8a6": {
     "views": [
      {
       "cell_index": 7
      }
     ]
    },
    "dc4df317f0af417bb0d8cbd9a2326175": {
     "views": [
      {
       "cell_index": 7
      }
     ]
    },
    "dcc5b960491d45dca3bc57af7b41d704": {
     "views": [
      {
       "cell_index": 7
      }
     ]
    },
    "dd2e2c11502843af902aac3241b81b67": {
     "views": [
      {
       "cell_index": 14
      }
     ]
    },
    "ddbb3ee8b85a4879aa7a990c21602334": {
     "views": [
      {
       "cell_index": 14
      }
     ]
    },
    "de41c927c39d495ba66a1f36c78609cb": {
     "views": [
      {
       "cell_index": 7
      }
     ]
    },
    "de798bd7a05e486daacb842d64efb5aa": {
     "views": [
      {
       "cell_index": 13
      }
     ]
    },
    "ded48f61d44f4bc88dd6f22c6805f877": {
     "views": [
      {
       "cell_index": 14
      }
     ]
    },
    "df211ad58a244fda86f77bd99cb86096": {
     "views": [
      {
       "cell_index": 7
      }
     ]
    },
    "e17f1d350cb7415b8ad0fceaddcaa912": {
     "views": [
      {
       "cell_index": 7
      }
     ]
    },
    "e1ca1a5fcbdf456fb605802ce7383e41": {
     "views": [
      {
       "cell_index": 14
      }
     ]
    },
    "e200c5a2f68c44e79120e53cc979446c": {
     "views": [
      {
       "cell_index": 7
      }
     ]
    },
    "e22d030b960f4070922db895e43a153c": {
     "views": [
      {
       "cell_index": 7
      }
     ]
    },
    "e2afcbcbd9594e5eb52999cf2168147f": {
     "views": [
      {
       "cell_index": 14
      }
     ]
    },
    "e437c72a20214ce2b35569ff5d2263e3": {
     "views": [
      {
       "cell_index": 7
      }
     ]
    },
    "e49ab2df79b24d798412230a2927f2ee": {
     "views": [
      {
       "cell_index": 13
      }
     ]
    },
    "e4f782a5e31743fa83e456dd808f737c": {
     "views": [
      {
       "cell_index": 13
      }
     ]
    },
    "e576397d6b3441e4aba7432d77c1116e": {
     "views": [
      {
       "cell_index": 7
      }
     ]
    },
    "e576845c4e9a42a1ac9be9c4f002eaa7": {
     "views": [
      {
       "cell_index": 7
      }
     ]
    },
    "e5c96d363e834a86852564ec66ca0d32": {
     "views": [
      {
       "cell_index": 7
      }
     ]
    },
    "e61442bc94734e41941a809f20da5c99": {
     "views": [
      {
       "cell_index": 14
      }
     ]
    },
    "e7000b1056434fcda242878baa98dad9": {
     "views": [
      {
       "cell_index": 7
      }
     ]
    },
    "e79cdb27c1614101aaa4e72aee520db0": {
     "views": [
      {
       "cell_index": 7
      }
     ]
    },
    "e7c1ab029b714f00bb11794a47ef070a": {
     "views": [
      {
       "cell_index": 7
      }
     ]
    },
    "e806fcc28c924b399342d8f6ed999b7d": {
     "views": [
      {
       "cell_index": 14
      }
     ]
    },
    "e9980e39fd9a4ab1ab9a872355369cc8": {
     "views": [
      {
       "cell_index": 14
      }
     ]
    },
    "ea69179693c74383bd9d5399f812f087": {
     "views": [
      {
       "cell_index": 14
      }
     ]
    },
    "eb297ca93b224708abe12f1486a85be9": {
     "views": [
      {
       "cell_index": 13
      }
     ]
    },
    "ebae7e1b0c13409c879b3a46dffb47fc": {
     "views": [
      {
       "cell_index": 7
      }
     ]
    },
    "ed0cf7c5e3a44c4a93017af40579c5b0": {
     "views": [
      {
       "cell_index": 7
      }
     ]
    },
    "ed7def8cedbc4aac88d9b4b511401160": {
     "views": [
      {
       "cell_index": 14
      }
     ]
    },
    "eebe797f8ef6431ea146aa71393d3a77": {
     "views": [
      {
       "cell_index": 7
      }
     ]
    },
    "eefd5ba4909645b3b7f1c85d8f176698": {
     "views": [
      {
       "cell_index": 7
      }
     ]
    },
    "ef2f496a0f034eb4a2d1c740a636cd46": {
     "views": [
      {
       "cell_index": 7
      }
     ]
    },
    "ef3fbe49616e4dfe824760ad6dc62219": {
     "views": [
      {
       "cell_index": 14
      }
     ]
    },
    "ef6c76805cc24c7b976f5fc0b1d1a079": {
     "views": [
      {
       "cell_index": 7
      }
     ]
    },
    "ef857380791a458684bf89727dad2d7e": {
     "views": [
      {
       "cell_index": 7
      }
     ]
    },
    "efc5642a25654b068adef9f3b62d7300": {
     "views": [
      {
       "cell_index": 14
      }
     ]
    },
    "eff444983e0b4febbaabe603b7f5692a": {
     "views": [
      {
       "cell_index": 7
      }
     ]
    },
    "effa3c5016344ef59802167afdba3db3": {
     "views": [
      {
       "cell_index": 14
      }
     ]
    },
    "f085cdf6fb904fd4afed00a442ee8f88": {
     "views": [
      {
       "cell_index": 7
      }
     ]
    },
    "f0e63268cdf644209735789c43349986": {
     "views": [
      {
       "cell_index": 14
      }
     ]
    },
    "f1174051122144ed9a2c2b64c24f4414": {
     "views": [
      {
       "cell_index": 14
      }
     ]
    },
    "f19f36b9d9654c88ba482f0bd8712a90": {
     "views": [
      {
       "cell_index": 7
      }
     ]
    },
    "f2c796ca8c7349f192bb5eb363960069": {
     "views": [
      {
       "cell_index": 7
      }
     ]
    },
    "f38f4692babf4988be09a798ee74ecf2": {
     "views": [
      {
       "cell_index": 7
      }
     ]
    },
    "f3b5ba475df741ad866e15c809f1f10c": {
     "views": [
      {
       "cell_index": 7
      }
     ]
    },
    "f48464f95f6e4b7ba10aff5084fb2aaa": {
     "views": [
      {
       "cell_index": 7
      }
     ]
    },
    "f540ec780e81496196b0f543c831741b": {
     "views": [
      {
       "cell_index": 13
      }
     ]
    },
    "f5b726d938ab49d4b54560c92f0f7deb": {
     "views": [
      {
       "cell_index": 7
      }
     ]
    },
    "f609fff9dfe44a18874521578ddf713e": {
     "views": [
      {
       "cell_index": 14
      }
     ]
    },
    "f61e68e9ce31444ab3290fbcc88113b2": {
     "views": [
      {
       "cell_index": 7
      }
     ]
    },
    "f66bdfdabc584b3ea27b13a6affd7ffb": {
     "views": [
      {
       "cell_index": 7
      }
     ]
    },
    "f6e33e4caa674df0b6e628c79864318b": {
     "views": [
      {
       "cell_index": 7
      }
     ]
    },
    "f7ae001db7c64c5fbbfdcba4a081277f": {
     "views": [
      {
       "cell_index": 7
      }
     ]
    },
    "f83a68f0d04e4234a22608858aa5d15f": {
     "views": [
      {
       "cell_index": 7
      }
     ]
    },
    "f89066c4a1db4ddc8f66366b9f9105ae": {
     "views": [
      {
       "cell_index": 14
      }
     ]
    },
    "f8c2c621d04441ab939ad2c69eb8e25f": {
     "views": [
      {
       "cell_index": 7
      }
     ]
    },
    "f98c6c93c7054f41a1d11ee6c1f52fdc": {
     "views": [
      {
       "cell_index": 7
      }
     ]
    },
    "fa16320ce0854023bbcd1fc157071682": {
     "views": [
      {
       "cell_index": 14
      }
     ]
    },
    "fa2a6eed5f4141a88d2c2a2d8df6de46": {
     "views": [
      {
       "cell_index": 7
      }
     ]
    },
    "fa9a3fcba3d546b5915fbe3dcaad3fcb": {
     "views": [
      {
       "cell_index": 7
      }
     ]
    },
    "fb22743065a94200adca5012c6a4c5b3": {
     "views": [
      {
       "cell_index": 14
      }
     ]
    },
    "fcc9488627f141cab481de4c0fb8d82d": {
     "views": [
      {
       "cell_index": 7
      }
     ]
    },
    "fcef83c90e7d450b8177364c939e8e2c": {
     "views": [
      {
       "cell_index": 14
      }
     ]
    },
    "fd7576470f5e4e7c87c095c0a8a43fea": {
     "views": [
      {
       "cell_index": 7
      }
     ]
    },
    "fe136559251549bfaa258f14ea018b27": {
     "views": [
      {
       "cell_index": 7
      }
     ]
    },
    "fe3fe47b1a2a4a8db3c3cdec13e32fe1": {
     "views": [
      {
       "cell_index": 7
      }
     ]
    },
    "ffd77cf2926a4d23ac51394c1276037d": {
     "views": [
      {
       "cell_index": 13
      }
     ]
    }
   },
   "version": "1.2.0"
  }
 },
 "nbformat": 4,
 "nbformat_minor": 1
}
