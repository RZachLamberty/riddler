{
 "cells": [
  {
   "cell_type": "code",
   "execution_count": 17,
   "metadata": {
    "ExecuteTime": {
     "end_time": "2017-08-05T02:34:43.641028Z",
     "start_time": "2017-08-05T02:34:43.629737Z"
    }
   },
   "outputs": [],
   "source": []
  },
  {
   "cell_type": "markdown",
   "metadata": {
    "ExecuteTime": {
     "end_time": "2016-06-03T16:54:12.475519",
     "start_time": "2016-06-03T16:54:12.462652"
    }
   },
   "source": [
    "# Summary of Riddler Express\n",
    "\n",
    "The regular hexagon below has an area of 1. What is the area of the shaded region?\n",
    "\n",
    "<img src=\"https://espnfivethirtyeight.files.wordpress.com/2017/11/roeder-riddler-1-110917.png?w=1150&h=405&quality=90&strip=info\"></img>"
   ]
  },
  {
   "cell_type": "markdown",
   "metadata": {
    "collapsed": true
   },
   "source": [
    "## solution\n",
    "\n",
    "the diagonals of the hexagon (lines from one corner to the opposite corner) divide the hexagon into 6 equilateral triangles, each having 1/6th of the unit area. our shaded region lies entirely within one of those 6 triangles.\n",
    "\n",
    "within that triangle, the other two lines within the hexagon (the lines from a corner to the corner two away clockwise or counterclockwise) are seen as bisectors of the triangle (that is, each of those lines is drawn from the corner of the triangle to the midpoint of the opposite edge.\n",
    "\n",
    "if we drew the third such line (from the center of the hexagon to the upper-left edge of the hexagon), each of the bisectors would be drawn and the shapes within would be 6 equal right traingles.\n",
    "\n",
    "our orange-shaded region here is simply 2 of those 6 pieces, or 1/3rd of the triangle.\n",
    "\n",
    "1/3rd of the triangle is 1/3rd of 1/6th of the area, so our final area is\n",
    "\n",
    "> 1/8th, or $0.0\\bar{5}$"
   ]
  },
  {
   "cell_type": "markdown",
   "metadata": {
    "collapsed": true
   },
   "source": [
    "# Summary of Riddler Classic\n",
    "\n",
    "The largest circle below has a radius of 10, the medium circle has a radius of 5 and the small, orange circle has a radius of 2. The orange circle crawls counterclockwise along the edge of the largest circle until it meets the medium circle, at which point it crawls up along the edge of the medium circle until it reaches the crest. What is the area of the shaded orange region in the right image?\n",
    "\n",
    "<img src=\"https://espnfivethirtyeight.files.wordpress.com/2017/11/roeder-riddler-2-110917.png?w=1150&h=321&quality=90&strip=info\"></img>"
   ]
  },
  {
   "cell_type": "markdown",
   "metadata": {
    "collapsed": true
   },
   "source": [
    "## solution\n",
    "\n",
    "we can solve this exactly.\n",
    "\n",
    "let's start with a calculation about a generic dot of radius $\\rho$, a circle for that dot to walk along with radius $r$, and a fraction of the circle that the dot walks $f$. for the big circle portion of the above diagram, we're talking\n",
    "\n",
    "+ $\\rho=2$\n",
    "+ $r=10$\n",
    "+ $f=.5$\n",
    "\n",
    "when it does this walk, it covers some shaded region. we can look at that region in three ways\n",
    "\n",
    "1. a macaroni noodle (curved, but flat on both ends)\n",
    "    + this ignores the rounded cap on both ends\n",
    "2. a curvy pill (curved and including the round endcaps)\n",
    "    + this is just the macaroni plus the area of the dot ($2\\pi\\rho^2$), adding the right half at the beginning and the left half at the end\n",
    "3. a double-sided snake tongue (curved and with the circle's area cut out of it)\n",
    "    + this is the macaroni *minus* the area of the dot ($2\\pi\\rho^2$), subtracting the left half from the beginning and the right half from the end\n",
    "\n",
    "we will calculate the macaroni version generally and the other two are easy additions after that.\n",
    "\n",
    "for just one circle, the macaroni area is the area of an [*annulus*](https://en.wikipedia.org/wiki/Annulus_%28mathematics%29) -- it's equal to the area of a fraction of a circle with radius $r + \\rho$ minus the area of a fraction of a circle with radius $r - \\rho$. this is\n",
    "\n",
    "$$\n",
    "\\begin{array}{rl}\n",
    "A_\\textrm{annulus} &= f A_{r+\\rho} - fA_{r-\\rho} \\\\\n",
    "                   &= f \\left(\\pi (r+\\rho)^2 - \\pi (r-\\rho)^2\\right) \\\\\n",
    "                   &= \\pi f \\left(r^2 + 2 r \\rho + \\rho^2 - r^2 + 2 r \\rho - \\rho^2 \\right) \\\\\n",
    "                   &= 2 \\pi f r \\rho\n",
    "\\end{array}\n",
    "$$\n",
    "\n",
    "the shaded region in the picture above has two pieces: the big circle piece ($r=10$) and the small circle piece ($r=5$). for both, $f=.5$ and $\\rho=2$. the macaroni area is\n",
    "\n",
    "$$\n",
    "\\begin{array}{rl}\n",
    "A &= A_{\\textrm{annulus}}^{\\textrm{big}} + A_{\\textrm{annulus}}^{\\textrm{small}} \\\\\n",
    "  &= 2 \\pi \\cdot \\dfrac{1}{2} \\cdot 10 \\cdot 2 + 2 \\pi \\cdot \\dfrac{1}{2} \\cdot 5 \\cdot 2 \\\\\n",
    "  &= 20\\pi + 10\\pi \\\\\n",
    "  &= 30\\pi\n",
    "\\end{array}\n",
    "$$\n",
    "\n",
    "this means that, depending on how we've defined the area, our final answer is\n",
    "\n",
    "| area type      | area value             |\n",
    "|----------------|------------------------|\n",
    "| macarnoi       | $30\\pi$                |\n",
    "| pill           | $30\\pi + 4\\pi = 34\\pi$ |\n",
    "| snake's tongue | $30\\pi - 4\\pi = 26\\pi$ |"
   ]
  }
 ],
 "metadata": {
  "anaconda-cloud": {},
  "kernelspec": {
   "display_name": "Python 3",
   "language": "python",
   "name": "python3"
  },
  "language_info": {
   "codemirror_mode": {
    "name": "ipython",
    "version": 3
   },
   "file_extension": ".py",
   "mimetype": "text/x-python",
   "name": "python",
   "nbconvert_exporter": "python",
   "pygments_lexer": "ipython3",
   "version": "3.6.3"
  },
  "toc": {
   "toc_cell": false,
   "toc_number_sections": true,
   "toc_threshold": 6,
   "toc_window_display": false
  }
 },
 "nbformat": 4,
 "nbformat_minor": 1
}
